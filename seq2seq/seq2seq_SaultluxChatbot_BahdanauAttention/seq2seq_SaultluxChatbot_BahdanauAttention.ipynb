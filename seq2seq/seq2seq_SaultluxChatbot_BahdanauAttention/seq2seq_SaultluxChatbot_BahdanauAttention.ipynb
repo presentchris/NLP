{
 "cells": [
  {
   "cell_type": "code",
   "execution_count": 1,
   "metadata": {},
   "outputs": [
    {
     "name": "stderr",
     "output_type": "stream",
     "text": [
      "2023-11-26 19:34:44.401703: I tensorflow/core/platform/cpu_feature_guard.cc:182] This TensorFlow binary is optimized to use available CPU instructions in performance-critical operations.\n",
      "To enable the following instructions: AVX2 FMA, in other operations, rebuild TensorFlow with the appropriate compiler flags.\n",
      "2023-11-26 19:34:45.881836: W tensorflow/compiler/tf2tensorrt/utils/py_utils.cc:38] TF-TRT Warning: Could not find TensorRT\n"
     ]
    },
    {
     "data": {
      "text/plain": [
       "'/home/nbumkim/anaconda3/envs/yolov7/lib/python3.9/site-packages/matplotlib/pyplot.py'"
      ]
     },
     "execution_count": 1,
     "metadata": {},
     "output_type": "execute_result"
    }
   ],
   "source": [
    "import tensorflow as tf\n",
    "from tensorflow import keras\n",
    "\n",
    "import numpy as np\n",
    "import os\n",
    "import matplotlib.pyplot as plt\n",
    "import inspect\n",
    "import json\n",
    "\n",
    "import re\n",
    "from tqdm import tqdm\n",
    "from konlpy.tag import Okt\n",
    "\n",
    "inspect.getfile(plt)"
   ]
  },
  {
   "cell_type": "code",
   "execution_count": 2,
   "metadata": {},
   "outputs": [
    {
     "data": {
      "text/plain": [
       "'2.13.0'"
      ]
     },
     "execution_count": 2,
     "metadata": {},
     "output_type": "execute_result"
    }
   ],
   "source": [
    "tf.__version__"
   ]
  },
  {
   "cell_type": "code",
   "execution_count": 2,
   "metadata": {},
   "outputs": [
    {
     "ename": "IndexError",
     "evalue": "list index out of range",
     "output_type": "error",
     "traceback": [
      "\u001b[1;31m---------------------------------------------------------------------------\u001b[0m",
      "\u001b[1;31mIndexError\u001b[0m                                Traceback (most recent call last)",
      "\u001b[1;32mc:\\Users\\nbumk\\OneDrive\\Documents\\lecture_2019\\Academy\\6_NLP\\Chatbot_Saltlux\\code\\seq2seq_SaultluxChatbot_BahdanauAttention.ipynb Cell 2\u001b[0m line \u001b[0;36m3\n\u001b[0;32m      <a href='vscode-notebook-cell:/c%3A/Users/nbumk/OneDrive/Documents/lecture_2019/Academy/6_NLP/Chatbot_Saltlux/code/seq2seq_SaultluxChatbot_BahdanauAttention.ipynb#W1sZmlsZQ%3D%3D?line=0'>1</a>\u001b[0m \u001b[39m# gpu driver 확인\u001b[39;00m\n\u001b[0;32m      <a href='vscode-notebook-cell:/c%3A/Users/nbumk/OneDrive/Documents/lecture_2019/Academy/6_NLP/Chatbot_Saltlux/code/seq2seq_SaultluxChatbot_BahdanauAttention.ipynb#W1sZmlsZQ%3D%3D?line=1'>2</a>\u001b[0m gpu \u001b[39m=\u001b[39m tf\u001b[39m.\u001b[39mconfig\u001b[39m.\u001b[39mlist_physical_devices(\u001b[39m'\u001b[39m\u001b[39mGPU\u001b[39m\u001b[39m'\u001b[39m)\n\u001b[1;32m----> <a href='vscode-notebook-cell:/c%3A/Users/nbumk/OneDrive/Documents/lecture_2019/Academy/6_NLP/Chatbot_Saltlux/code/seq2seq_SaultluxChatbot_BahdanauAttention.ipynb#W1sZmlsZQ%3D%3D?line=2'>3</a>\u001b[0m tf\u001b[39m.\u001b[39mconfig\u001b[39m.\u001b[39mexperimental\u001b[39m.\u001b[39mset_memory_growth(gpu[\u001b[39m0\u001b[39;49m], enable\u001b[39m=\u001b[39m\u001b[39mTrue\u001b[39;00m)\n\u001b[0;32m      <a href='vscode-notebook-cell:/c%3A/Users/nbumk/OneDrive/Documents/lecture_2019/Academy/6_NLP/Chatbot_Saltlux/code/seq2seq_SaultluxChatbot_BahdanauAttention.ipynb#W1sZmlsZQ%3D%3D?line=3'>4</a>\u001b[0m \u001b[39mprint\u001b[39m(gpu)\n",
      "\u001b[1;31mIndexError\u001b[0m: list index out of range"
     ]
    }
   ],
   "source": [
    "# gpu driver 확인\n",
    "gpu = tf.config.list_physical_devices('GPU')\n",
    "# tf.config.experimental.set_memory_growth(gpu[0], enable=True)\n",
    "print(gpu)"
   ]
  },
  {
   "cell_type": "markdown",
   "metadata": {},
   "source": [
    "## 모델에 필요한 값 선언"
   ]
  },
  {
   "cell_type": "code",
   "execution_count": 4,
   "metadata": {},
   "outputs": [],
   "source": [
    "## Data 경로 설정\n",
    "DATA_IN_PATH = './data_in/csv_short/'\n",
    "DATA_OUT_PATH = './data_out/csv_short/'\n",
    "TRAIN_INPUTS = 'train_inputs.npy'\n",
    "TRAIN_OUTPUTS = 'train_outputs.npy'\n",
    "TRAIN_TARGETS = 'train_targets.npy'\n",
    "DATA_CONFIGS = 'data_configs.json'\n",
    "\n",
    "## 파일 일기\n",
    "index_inputs = np.load(open(DATA_IN_PATH + TRAIN_INPUTS, 'rb'))\n",
    "index_outputs = np.load(open(DATA_IN_PATH + TRAIN_OUTPUTS , 'rb'))\n",
    "index_targets = np.load(open(DATA_IN_PATH + TRAIN_TARGETS , 'rb'))\n",
    "prepro_configs = json.load(open(DATA_IN_PATH + DATA_CONFIGS, 'r'))"
   ]
  },
  {
   "cell_type": "code",
   "execution_count": 124,
   "metadata": {},
   "outputs": [
    {
     "data": {
      "text/plain": [
       "array([[ 53,  82,   0,   0,   0,   0,   0,   0,   0,   0,   0,   0,   0,\n",
       "          0,   0,   0,   0,   0,   0,   0,   0,   0,   0,   0,   0],\n",
       "       [ 53,  15,  82,   0,   0,   0,   0,   0,   0,   0,   0,   0,   0,\n",
       "          0,   0,   0,   0,   0,   0,   0,   0,   0,   0,   0,   0],\n",
       "       [100,  93,  45,   0,   0,   0,   0,   0,   0,   0,   0,   0,   0,\n",
       "          0,   0,   0,   0,   0,   0,   0,   0,   0,   0,   0,   0],\n",
       "       [ 60,  33,  91,   0,   0,   0,   0,   0,   0,   0,   0,   0,   0,\n",
       "          0,   0,   0,   0,   0,   0,   0,   0,   0,   0,   0,   0],\n",
       "       [110,  52,  78,   0,   0,   0,   0,   0,   0,   0,   0,   0,   0,\n",
       "          0,   0,   0,   0,   0,   0,   0,   0,   0,   0,   0,   0],\n",
       "       [ 34,  77,  68,   0,   0,   0,   0,   0,   0,   0,   0,   0,   0,\n",
       "          0,   0,   0,   0,   0,   0,   0,   0,   0,   0,   0,   0],\n",
       "       [ 10,  37,  74,   0,   0,   0,   0,   0,   0,   0,   0,   0,   0,\n",
       "          0,   0,   0,   0,   0,   0,   0,   0,   0,   0,   0,   0],\n",
       "       [ 10,  36,  71,  18,   0,   0,   0,   0,   0,   0,   0,   0,   0,\n",
       "          0,   0,   0,   0,   0,   0,   0,   0,   0,   0,   0,   0],\n",
       "       [106,  28,  54, 107,   0,   0,   0,   0,   0,   0,   0,   0,   0,\n",
       "          0,   0,   0,   0,   0,   0,   0,   0,   0,   0,   0,   0],\n",
       "       [106, 102,  76,  89,   0,   0,   0,   0,   0,   0,   0,   0,   0,\n",
       "          0,   0,   0,   0,   0,   0,   0,   0,   0,   0,   0,   0],\n",
       "       [ 96,  98,  42,  81,   0,   0,   0,   0,   0,   0,   0,   0,   0,\n",
       "          0,   0,   0,   0,   0,   0,   0,   0,   0,   0,   0,   0],\n",
       "       [ 96,  43, 108,  88,   0,   0,   0,   0,   0,   0,   0,   0,   0,\n",
       "          0,   0,   0,   0,   0,   0,   0,   0,   0,   0,   0,   0],\n",
       "       [ 96,  39,  59,  90,   0,   0,   0,   0,   0,   0,   0,   0,   0,\n",
       "          0,   0,   0,   0,   0,   0,   0,   0,   0,   0,   0,   0],\n",
       "       [ 96,  83,  69,  70,  63,   0,   0,   0,   0,   0,   0,   0,   0,\n",
       "          0,   0,   0,   0,   0,   0,   0,   0,   0,   0,   0,   0],\n",
       "       [ 96,  57,  38,  56,  84,   0,   0,   0,   0,   0,   0,   0,   0,\n",
       "          0,   0,   0,   0,   0,   0,   0,   0,   0,   0,   0,   0],\n",
       "       [ 96,  57,  17,  67,   0,   0,   0,   0,   0,   0,   0,   0,   0,\n",
       "          0,   0,   0,   0,   0,   0,   0,   0,   0,   0,   0,   0],\n",
       "       [101,  23,  21,  85,   0,   0,   0,   0,   0,   0,   0,   0,   0,\n",
       "          0,   0,   0,   0,   0,   0,   0,   0,   0,   0,   0,   0],\n",
       "       [101,  28,   7,   0,   0,   0,   0,   0,   0,   0,   0,   0,   0,\n",
       "          0,   0,   0,   0,   0,   0,   0,   0,   0,   0,   0,   0],\n",
       "       [101,  28,  14,  97,   0,   0,   0,   0,   0,   0,   0,   0,   0,\n",
       "          0,   0,   0,   0,   0,   0,   0,   0,   0,   0,   0,   0],\n",
       "       [101,  28,   8,   0,   0,   0,   0,   0,   0,   0,   0,   0,   0,\n",
       "          0,   0,   0,   0,   0,   0,   0,   0,   0,   0,   0,   0]])"
      ]
     },
     "execution_count": 124,
     "metadata": {},
     "output_type": "execute_result"
    }
   ],
   "source": [
    "index_inputs"
   ]
  },
  {
   "cell_type": "code",
   "execution_count": 125,
   "metadata": {},
   "outputs": [
    {
     "name": "stdout",
     "output_type": "stream",
     "text": [
      "{'<PAD>': 0, '<SOS>': 1, '<END>': 2, '<UNK>': 3, '구하셨나요': 4, '어서': 5, '평소에': 6, '바빠': 7, '잘생겼어': 8, '돌아가서': 9, '가스불': 10, '게': 11, '더': 12, '결단은': 13, '운동만': 14, '뭐하는지': 15, '마세요': 16, '좀': 17, '같아': 18, '나오세요': 19, '같아요': 20, '안': 21, '혼자를': 22, '나': 23, '적당히': 24, '다시': 25, '필요한': 26, '따뜻하게': 27, '너무': 28, '하세요': 29, '거예요': 30, '전생에': 31, '필요했던': 32, '자의': 33, '가상화폐': 34, '생각해보세요': 35, '켜놓고': 36, '켜고': 37, '따라': 38, '생일인데': 39, '집착하지': 40, '집에': 41, '데려가고': 42, '또': 43, '좋아요': 44, '좋다': 45, '달에는': 46, '즐기세요': 47, '열': 48, '끄고': 49, '식혀주세요': 50, '마음을': 51, '있어도': 52, '가끔': 53, '많이': 54, '때까지': 55, '훈훈해': 56, '오늘': 57, '그럴': 58, '뭘': 59, '가난한': 60, '운동을': 61, '돈은': 62, '좋을까': 63, '들어올': 64, '사세요': 65, '사람도': 66, '질린다': 67, '망함': 68, '선물로': 69, '뭐가': 70, '나온거': 71, '그': 72, '것': 73, '나갔어': 74, '거짓말': 75, '감기': 76, '쫄딱': 77, '땀난다': 78, '좋을': 79, '설득해보세요': 80, '싶어': 81, '궁금해': 82, '승진': 83, '보인다': 84, '믿어줘': 85, '땀을': 86, '다음': 87, '갔어': 88, '걸리겠어': 89, '줄까': 90, '설움': 91, '잊고': 92, '혼자인게': 93, '새출발': 94, '함께': 95, '남자친구': 96, '해': 97, '교회': 98, '빨리': 99, '가끔은': 100, '남자친구가': 101, '비싼데': 102, '해보세요': 103, '빠를수록': 104, '나라를': 105, '가스비': 106, '나왔다': 107, '운동': 108, '절약해봐요': 109, '가만': 110}\n",
      "{'0': '<PAD>', '1': '<SOS>', '2': '<END>', '3': '<UNK>', '4': '구하셨나요', '5': '어서', '6': '평소에', '7': '바빠', '8': '잘생겼어', '9': '돌아가서', '10': '가스불', '11': '게', '12': '더', '13': '결단은', '14': '운동만', '15': '뭐하는지', '16': '마세요', '17': '좀', '18': '같아', '19': '나오세요', '20': '같아요', '21': '안', '22': '혼자를', '23': '나', '24': '적당히', '25': '다시', '26': '필요한', '27': '따뜻하게', '28': '너무', '29': '하세요', '30': '거예요', '31': '전생에', '32': '필요했던', '33': '자의', '34': '가상화폐', '35': '생각해보세요', '36': '켜놓고', '37': '켜고', '38': '따라', '39': '생일인데', '40': '집착하지', '41': '집에', '42': '데려가고', '43': '또', '44': '좋아요', '45': '좋다', '46': '달에는', '47': '즐기세요', '48': '열', '49': '끄고', '50': '식혀주세요', '51': '마음을', '52': '있어도', '53': '가끔', '54': '많이', '55': '때까지', '56': '훈훈해', '57': '오늘', '58': '그럴', '59': '뭘', '60': '가난한', '61': '운동을', '62': '돈은', '63': '좋을까', '64': '들어올', '65': '사세요', '66': '사람도', '67': '질린다', '68': '망함', '69': '선물로', '70': '뭐가', '71': '나온거', '72': '그', '73': '것', '74': '나갔어', '75': '거짓말', '76': '감기', '77': '쫄딱', '78': '땀난다', '79': '좋을', '80': '설득해보세요', '81': '싶어', '82': '궁금해', '83': '승진', '84': '보인다', '85': '믿어줘', '86': '땀을', '87': '다음', '88': '갔어', '89': '걸리겠어', '90': '줄까', '91': '설움', '92': '잊고', '93': '혼자인게', '94': '새출발', '95': '함께', '96': '남자친구', '97': '해', '98': '교회', '99': '빨리', '100': '가끔은', '101': '남자친구가', '102': '비싼데', '103': '해보세요', '104': '빠를수록', '105': '나라를', '106': '가스비', '107': '나왔다', '108': '운동', '109': '절약해봐요', '110': '가만'}\n",
      "<SOS>\n",
      "<END>\n",
      "vocab_size:  111\n"
     ]
    }
   ],
   "source": [
    "## Random seed 설정\n",
    "# SEED_NUM = 1234\n",
    "# tf.random.set_seed(SEED_NUM)\n",
    "\n",
    "## 모델 변수값\n",
    "MODEL_NAME = 'seq2seq_kor_Attention'\n",
    "BATCH_SIZE = 2\n",
    "MAX_SEQUENCE = 25\n",
    "EPOCH = 30\n",
    "UNITS = 1024\n",
    "EMBEDDING_DIM = 256\n",
    "VALIDATION_SPLIT = 0.1 \n",
    "\n",
    "char2idx = prepro_configs['char2idx']\n",
    "idx2char = prepro_configs['idx2char']\n",
    "std_index = prepro_configs['std_symbol']\n",
    "end_index = prepro_configs['end_symbol']\n",
    "vocab_size = prepro_configs['vocab_size'] # ['<PAD>\\n', '<SOS>\\n', '<END>\\n', ... ,\n",
    "\n",
    "print(char2idx) # {'<PAD>': 0, '<SOS>': 1, '<END>': 2, '<UNK>': 3,\n",
    "print(idx2char) # {'0': '<PAD>', '1': '<SOS>', '2': '<END>', '3': '<UNK>', '4': '혼자인게', '5':  숫자 결과를 문장으로 변환할 때\n",
    "print(std_index) # <SOS>\n",
    "print(end_index) # <END>\n",
    "print('vocab_size: ', vocab_size) # 111"
   ]
  },
  {
   "cell_type": "markdown",
   "metadata": {},
   "source": [
    "# seq2seq 모델\n",
    "## Encoder"
   ]
  },
  {
   "cell_type": "code",
   "execution_count": 126,
   "metadata": {},
   "outputs": [],
   "source": [
    "class Encoder(keras.layers.Layer):\n",
    "    def __init__(self, vocab_size, embedding_dim, enc_units, batch_sz):\n",
    "        super(Encoder, self).__init__()\n",
    "        self.batch_sz = batch_sz # 2\n",
    "        self.enc_units = enc_units # 1024\n",
    "        self.vocab_size = vocab_size # 111\n",
    "        self.embedding_dim = embedding_dim # 256\n",
    "        self.embedding = keras.layers.Embedding(self.vocab_size, self.embedding_dim)\n",
    "        self.gru = keras.layers.GRU(self.enc_units,\n",
    "                                    return_sequences=True,\n",
    "                                    return_state=True,\n",
    "                                    recurrent_initializer='glorot_uniform')\n",
    "        \n",
    "    def call(self, x, hidden):\n",
    "        x = self.embedding(x) # x shape = (20, 25)\n",
    "        # x shape = (20, 25, 256)\n",
    "        \n",
    "        # w/o attention\n",
    "        # _, state = self.gru(x, initial_state=hidden)\n",
    "\n",
    "        # w attention\n",
    "        output, state = self.gru(x, initial_state=hidden)        \n",
    "        return output, state \n",
    "        # output = (20, 25, 1024), state shape = (20, 1024)\n",
    "    \n",
    "    def initialize_hidden_state(self, inp):\n",
    "        return tf.zeros((tf.shape(inp)[0], self.enc_units)) # inp shape = [20, 25], self.enc_units = 1024"
   ]
  },
  {
   "cell_type": "code",
   "execution_count": 127,
   "metadata": {},
   "outputs": [],
   "source": [
    "# ################################# Code testing\n",
    "\n",
    "# train_X = [[[0.1, 4.2, 1.5, 1.1, 2.8], \n",
    "#            [1.0, 3.1, 2.5, 0.7, 1.1], \n",
    "#            [0.3, 2.1, 1.5, 2.1, 0.1], \n",
    "#            [2.2, 1.4, 0.5, 0.9, 1.1]],\n",
    "\n",
    "#            [[0.1, 4.2, 1.5, 1.1, 2.8], \n",
    "#            [1.0, 3.1, 2.5, 0.7, 1.1], \n",
    "#            [0.3, 2.1, 1.5, 2.1, 0.1], \n",
    "#            [2.2, 1.4, 0.5, 0.9, 1.1]]]\n",
    "# train_X = tf.convert_to_tensor(train_X, dtype=tf.float32)\n",
    "# print(tf.shape(train_X))\n",
    "\n",
    "# gru =  tf.keras.layers.GRU(units = 3, \n",
    "#                            return_sequences=True, \n",
    "#                            return_state=True)\n",
    "# a, b = gru(train_X)\n",
    "# print(a) # encoder time-step\n",
    "# print(b)"
   ]
  },
  {
   "cell_type": "code",
   "execution_count": 128,
   "metadata": {},
   "outputs": [],
   "source": [
    "## Encoder check\n",
    "# enc_hidden_init = tf.random.normal((20, 1024))\n",
    "# # vocab_size = 111, EMBEDDING_DIM = 256, UNITS = 1024, BATCH_SIZE = 2\n",
    "# encoder = Encoder(vocab_size, EMBEDDING_DIM, UNITS, BATCH_SIZE) \n",
    "# enc_hidden = encoder(index_inputs, enc_hidden_init )\n",
    "# enc_hidden.shape"
   ]
  },
  {
   "cell_type": "markdown",
   "metadata": {},
   "source": [
    "## Bahdanu's Attention"
   ]
  },
  {
   "cell_type": "code",
   "execution_count": 129,
   "metadata": {},
   "outputs": [],
   "source": [
    "# a = tf.random.normal((2,4))  # (batch_size, hidden size)\n",
    "# print(a)\n",
    "# print(\"=\"*50)\n",
    "# b = tf.expand_dims(a, 1)\n",
    "# print(b)"
   ]
  },
  {
   "cell_type": "code",
   "execution_count": 130,
   "metadata": {},
   "outputs": [],
   "source": [
    "## check tensor sum\n",
    "# cx = tf.constant([[1,1,1,1],\n",
    "#                   [2, 2, 2, 2]], dtype=tf.float32)\n",
    "# print(cx)\n",
    "\n",
    "####################################################\n",
    "# cx = tf.constant([[[1,1,1,1]],\n",
    "#                   [[2, 2, 2, 2]]], dtype=tf.float32)\n",
    "# print(cx)\n",
    "\n",
    "# cy = tf.zeros((2, 2, 4))\n",
    "# print(cy)\n",
    "\n",
    "# cxy = cx + cy\n",
    "# print(cxy)\n",
    "\n",
    "####################################################\n",
    "# cd = tf.random.normal((2, 3, 1), dtype = tf.float32)\n",
    "# print(cd)\n",
    "\n",
    "# tf.nn.softmax(cd, axis = 1)"
   ]
  },
  {
   "cell_type": "code",
   "execution_count": 131,
   "metadata": {},
   "outputs": [],
   "source": [
    "class BahdanauAttention(tf.keras.layers.Layer):\n",
    "    def __init__(self, units): # units = 1024\n",
    "        super(BahdanauAttention, self).__init__()\n",
    "        self.W1 = tf.keras.layers.Dense(units) # decoder units\n",
    "        self.W2 = tf.keras.layers.Dense(units)\n",
    "        self.V = tf.keras.layers.Dense(1)\n",
    "\n",
    "    def call(self, query, values): # query: hidden from dec, values: enc_output\n",
    "        # 스코어(score)계산을 위해 덧셈을 수행하고자 시간 축을 확장하여 아래의 과정을 수행합니다.\n",
    "        query_with_time_axis = tf.expand_dims(query, 1) \n",
    "        # query_with_time_axis = (batch_size, 1, hidden size)\n",
    "        # values = (batch_size, max_len, hidden size)\n",
    "        \n",
    "        # score는 (batch_size, max_length, 1)쌍으로 이루어져 있습니다.\n",
    "        # score를 self.V에 적용하기 때문에 마지막 축에 1을 얻습니다.\n",
    "        # self.V에 적용하기 전에 텐서는 (batch_size, max_length, units)쌍으로 이루어져 있습니다.\n",
    "        score = self.V(tf.nn.tanh(\n",
    "            self.W1(values) + self.W2(query_with_time_axis)))\n",
    "\n",
    "        attention_weights = tf.nn.softmax(score, axis=1)\n",
    "\n",
    "        context_vector = attention_weights * values # weighted sum of values\n",
    "        context_vector = tf.reduce_sum(context_vector, axis=1)\n",
    "\n",
    "        return context_vector, attention_weights"
   ]
  },
  {
   "cell_type": "markdown",
   "metadata": {},
   "source": [
    "## Decoder"
   ]
  },
  {
   "cell_type": "code",
   "execution_count": 132,
   "metadata": {},
   "outputs": [],
   "source": [
    "class Decoder(keras.layers.Layer):\n",
    "    def __init__(self, vocab_size, embedding_dim, dec_units, batch_sz):\n",
    "        super(Decoder, self).__init__()\n",
    "        \n",
    "        self.batch_sz = batch_sz\n",
    "        self.dec_units = dec_units\n",
    "        self.vocab_size = vocab_size\n",
    "        self.embedding_dim = embedding_dim\n",
    "\n",
    "        self.embedding = keras.layers.Embedding(self.vocab_size, self.embedding_dim)\n",
    "        self.gru = keras.layers.GRU(self.dec_units,\n",
    "                                    return_sequences=True,\n",
    "                                    return_state=True,\n",
    "                                    recurrent_initializer='glorot_uniform')\n",
    "        self.fc = keras.layers.Dense(self.vocab_size)\n",
    "        \n",
    "        # w attention\n",
    "        self.attention = BahdanauAttention(self.dec_units)\n",
    "        \n",
    "    def call(self, x, hidden, enc_output):\n",
    "        # hidden = query, enc_output = values\n",
    "        context_vector, attention_weights = self.attention(hidden, enc_output)\n",
    "        \n",
    "        x = self.embedding(x) #  x dec_input = tf.dtypes.cast(tf.expand_dims(tar[:, t], 1), tf.float32) shape =  (20, 1)\n",
    "        # x shape = (20, 1, 256)\n",
    "        \n",
    "        x = tf.concat([tf.expand_dims(context_vector, 1), x], axis=-1)\n",
    "        # x shape = (batch_size, 1, embedding + context_vector)\n",
    "        \n",
    "        output, state = self.gru(x) # state = dec_hidden\n",
    "        # output shape = (20, 1, 1024), state shape = (20, 1024)\n",
    "        output = tf.reshape(output, (-1, output.shape[2]))\n",
    "\n",
    "        x = self.fc(output)\n",
    "        # x shape = (20, 111)\n",
    "        \n",
    "        return x, state, attention_weights"
   ]
  },
  {
   "cell_type": "code",
   "execution_count": 133,
   "metadata": {},
   "outputs": [],
   "source": [
    "# decoder check\n",
    "# dec_input = tf.dtypes.cast(tf.expand_dims(index_outputs[:, 0], 1), tf.float32)\n",
    "# dec_hidden =  enc_hidden\n",
    "# # print(dec_input.shape) # (20, 1)\n",
    "\n",
    "# decoder = Decoder(vocab_size, EMBEDDING_DIM, UNITS, BATCH_SIZE)\n",
    "# x, stats, output = decoder(dec_input, dec_hidden)\n",
    "# print('x =', x.shape)\n",
    "# print('stats =', stats.shape)\n",
    "# print('output =', output.shape)"
   ]
  },
  {
   "cell_type": "markdown",
   "metadata": {},
   "source": [
    "## Loss Function"
   ]
  },
  {
   "cell_type": "code",
   "execution_count": 134,
   "metadata": {},
   "outputs": [],
   "source": [
    "# optimizer = tf.keras.optimizers.Adam()\n",
    "loss_object = keras.losses.SparseCategoricalCrossentropy(from_logits=True, reduction ='none')\n",
    "train_accuracy = keras.metrics.SparseCategoricalAccuracy(name='accuracy')\n",
    "###########\n",
    "# real = [1, 3]\n",
    "# pred = [[0.05, 0.9, 0, 0.05], \n",
    "#           [0.1, 0.8, 0.05, 0.05]]\n",
    "###########\n",
    "\n",
    "def loss(real, pred): # real shape = (20, 25), pred shape = (20, 25, 111)\n",
    "    mask = tf.math.logical_not(tf.math.equal(real, 0)) # real 값이 0 이면 True => tf.math.logical_not => False\n",
    "    loss_ = loss_object(real, pred)\n",
    "    mask = tf.cast(mask, dtype=loss_.dtype)\n",
    "    loss_ *= mask\n",
    "    return tf.reduce_mean(loss_)\n",
    "\n",
    "###########################################\n",
    "# real = tf.convert_to_tensor([[2, 1, 0], \n",
    "#                              [1, 0, 0]])\n",
    "# pred = tf.convert_to_tensor([[[0.1, 0.6, 0.3], [0.05, 0.95, 0], [0.1, 0.6, 0.3]],\n",
    "#                              [[0.1, 0.6, 0.3], [0.05, 0.95, 0], [0.1, 0.6, 0.3]]])\n",
    "###########################################\n",
    "\n",
    "# real shape = (20, 25)\n",
    "# pred shape = (20, 25, 111)\n",
    "# def accuracy(real, pred):\n",
    "#     mask = tf.math.logical_not(tf.math.equal(real, 0))\n",
    "#     mask = tf.expand_dims(tf.cast(mask, dtype = pred.dtype), axis = -1) # mask tf.Tensor: shape=(20, 25)\n",
    "#     # mask tf.Tensor: shape=(20, 25, 1)\n",
    "#     pred *= mask\n",
    "#     acc = train_accuracy(real, pred)\n",
    "#     return tf.reduce_mean(acc)"
   ]
  },
  {
   "cell_type": "code",
   "execution_count": 135,
   "metadata": {},
   "outputs": [],
   "source": [
    "## check loss\n",
    "\n",
    "# loss_object = keras.losses.SparseCategoricalCrossentropy(from_logits=True, reduction ='none')\n",
    "# real = tf.convert_to_tensor([[2, 1, 0], \n",
    "#                              [1, 0, 0]])\n",
    "# pred = tf.convert_to_tensor([[[0.1, 0.6, 0.3], [0.05, 0.95, 0], [0.1, 0.6, 0.3]],\n",
    "#                              [[0.1, 0.6, 0.3], [0.05, 0.95, 0], [0.1, 0.6, 0.3]]])\n",
    "\n",
    "\n",
    "# mask = tf.math.logical_not(tf.math.equal(real, 0)) # real 값이 0 이면 True => tf.math.logical_not => False\n",
    "# print(mask)\n",
    "# loss = loss_object(real, pred)\n",
    "# print(loss)\n",
    "# mask = tf.cast(mask, dtype=loss.dtype)\n",
    "# loss *= mask\n",
    "# print(\"loss *= mask\", loss)\n",
    "# tf.reduce_mean(loss)"
   ]
  },
  {
   "cell_type": "markdown",
   "metadata": {},
   "source": [
    "## seq2seq 모델"
   ]
  },
  {
   "cell_type": "code",
   "execution_count": 136,
   "metadata": {},
   "outputs": [],
   "source": [
    "# MODEL_NAME = 'seq2seq_kor'\n",
    "# BATCH_SIZE = 2\n",
    "# MAX_SEQUENCE = 25\n",
    "# EPOCH = 30\n",
    "# UNITS = 1024\n",
    "# EMBEDDING_DIM = 256\n",
    "# VALIDATION_SPLIT = 0.1\n",
    "# vocab_size = 111 # ['<PAD>\\n', '<SOS>\\n', '<END>\\n', ... \n",
    "# history = model.fit([index_inputs, index_outputs], index_targets,\n",
    "#                     batch_size=BATCH_SIZE, epochs=EPOCH,\n",
    "#                     validation_split=VALIDATION_SPLIT, callbacks=[earlystop_callback, cp_callback])\n",
    "\n",
    "class seq2seq(keras.Model):\n",
    "    def __init__(self, vocab_size, embedding_dim, enc_units, dec_units, \n",
    "                 batch_sz, end_token_idx = 2):\n",
    "        super(seq2seq, self).__init__()\n",
    "        self.end_token_idx = end_token_idx\n",
    "        self.encoder = Encoder(vocab_size, embedding_dim, enc_units, batch_sz)\n",
    "        self.decoder = Decoder(vocab_size, embedding_dim, dec_units, batch_sz)\n",
    "        \n",
    "    def call(self, x):\n",
    "        inp, tar = x # [index_inputs, index_outputs]\n",
    "        \n",
    "        end_hidden = self.encoder.initialize_hidden_state(inp) # 20 x 25 (sentence x MAX_SEQUENCE)\n",
    "        # end_hidden =  zeros (20, 1024 (enc_units)) \n",
    "        enc_output, enc_hidden = self.encoder(inp, end_hidden)  # enc_state (20, 1024) only last(hidden) state\n",
    "        dec_hidden = enc_hidden\n",
    "\n",
    "        predict_tokens = list()\n",
    "        for t in range(0, tar.shape[1]): # tar.shape = (20, 25 (MAX_LENGTH))\n",
    "            dec_input = tf.dtypes.cast(tf.expand_dims(tar[:, t], 1), tf.float32) # tar[:, t].shape = (20,  )\n",
    "            # dec_input shape = (20, 1)\n",
    "            predictions, dec_hidden, _ = self.decoder(dec_input, dec_hidden, enc_output)\n",
    "            # predictions shape = (20, 111), dec_hidden = (20, 1024)\n",
    "            predict_tokens.append(tf.dtypes.cast(predictions, tf.float32))\n",
    "            # predict_tokens shape = (25, 20, 111)\n",
    "\n",
    "        predicted = tf.stack(predict_tokens, axis=1) #   \n",
    "        return predicted # tf.Tensor: shape=(20, 25, 111)\n",
    "        \n",
    "    def inference(self, x):\n",
    "        inp = x\n",
    "       \n",
    "        enc_hidden = self.encoder.initialize_hidden_state(inp)\n",
    "        # enc_hidden_init size = (, 1024)\n",
    "        enc_output, enc_hidden = self.encoder(inp, enc_hidden)\n",
    "\n",
    "        dec_hidden = enc_hidden\n",
    "        dec_input = tf.expand_dims([char2idx[std_index]], 1)\n",
    "        \n",
    "        predict_tokens =  list()\n",
    "        for t in range(0, MAX_SEQUENCE):\n",
    "            predictions, dec_hidden, _ = self.decoder(dec_input, dec_hidden, enc_output)\n",
    "            predict_token = tf.argmax(predictions[0]) # predictions shape =  (1, 111)\n",
    "            \n",
    "            if predict_token == self.end_token_idx:\n",
    "                break\n",
    "\n",
    "            predict_tokens.append(predict_token)\n",
    "            dec_input = tf.dtypes.cast(tf.expand_dims([predict_token], 0), tf.float32)\n",
    "            \n",
    "        return tf.stack(predict_tokens, axis=0).numpy()\n",
    "        "
   ]
  },
  {
   "cell_type": "code",
   "execution_count": 137,
   "metadata": {},
   "outputs": [],
   "source": [
    "# decoder check\n",
    "# x_tokens = list()\n",
    "# for i in range(2):\n",
    "#     dec_input = tf.dtypes.cast(tf.expand_dims(index_outputs[:, i], 1), tf.float32)\n",
    "#     dec_hidden =  enc_hidden\n",
    "#     # print(dec_input.shape) # (20, 1)\n",
    "\n",
    "#     decoder = Decoder(vocab_size, EMBEDDING_DIM, UNITS, BATCH_SIZE)\n",
    "#     x, stats, output = decoder(dec_input, dec_hidden)\n",
    "#     x_tokens.append(tf.dtypes.cast(x, tf.float32))\n",
    "\n",
    "# print('x =', x.shape)\n",
    "# print('x_tokens =', tf.convert_to_tensor(x_tokens).shape)\n",
    "# print('stats =', stats.shape)\n",
    "# print('output =', output.shape)\n",
    "# predicted = tf.stack(x_tokens, axis=1)\n",
    "# predicted.shape"
   ]
  },
  {
   "cell_type": "code",
   "execution_count": 138,
   "metadata": {},
   "outputs": [],
   "source": [
    "model = seq2seq(vocab_size, EMBEDDING_DIM, UNITS, UNITS, BATCH_SIZE, char2idx[end_index])\n",
    "model.compile(loss = loss, optimizer=keras.optimizers.Adam(1e-3))"
   ]
  },
  {
   "cell_type": "code",
   "execution_count": 139,
   "metadata": {},
   "outputs": [
    {
     "name": "stdout",
     "output_type": "stream",
     "text": [
      "Epoch 1/30\n"
     ]
    },
    {
     "name": "stdout",
     "output_type": "stream",
     "text": [
      "9/9 [==============================] - ETA: 0s - loss: 0.8200\n",
      "Epoch 1: val_loss improved from inf to 0.63516, saving model to ./data_out/seq2seq_kor/weights.h5\n",
      "9/9 [==============================] - 35s 986ms/step - loss: 0.8200 - val_loss: 0.6352\n",
      "Epoch 2/30\n",
      "9/9 [==============================] - ETA: 0s - loss: 0.7292\n",
      "Epoch 2: val_loss improved from 0.63516 to 0.62884, saving model to ./data_out/seq2seq_kor/weights.h5\n",
      "9/9 [==============================] - 1s 117ms/step - loss: 0.7292 - val_loss: 0.6288\n",
      "Epoch 3/30\n",
      "9/9 [==============================] - ETA: 0s - loss: 0.6626\n",
      "Epoch 3: val_loss improved from 0.62884 to 0.56961, saving model to ./data_out/seq2seq_kor/weights.h5\n",
      "9/9 [==============================] - 1s 116ms/step - loss: 0.6626 - val_loss: 0.5696\n",
      "Epoch 4/30\n",
      "9/9 [==============================] - ETA: 0s - loss: 0.6166\n",
      "Epoch 4: val_loss improved from 0.56961 to 0.55416, saving model to ./data_out/seq2seq_kor/weights.h5\n",
      "9/9 [==============================] - 1s 119ms/step - loss: 0.6166 - val_loss: 0.5542\n",
      "Epoch 5/30\n",
      "9/9 [==============================] - ETA: 0s - loss: 0.5742\n",
      "Epoch 5: val_loss improved from 0.55416 to 0.49667, saving model to ./data_out/seq2seq_kor/weights.h5\n",
      "9/9 [==============================] - 1s 118ms/step - loss: 0.5742 - val_loss: 0.4967\n",
      "Epoch 6/30\n",
      "9/9 [==============================] - ETA: 0s - loss: 0.5210\n",
      "Epoch 6: val_loss improved from 0.49667 to 0.43648, saving model to ./data_out/seq2seq_kor/weights.h5\n",
      "9/9 [==============================] - 1s 122ms/step - loss: 0.5210 - val_loss: 0.4365\n",
      "Epoch 7/30\n",
      "9/9 [==============================] - ETA: 0s - loss: 0.4659\n",
      "Epoch 7: val_loss improved from 0.43648 to 0.40028, saving model to ./data_out/seq2seq_kor/weights.h5\n",
      "9/9 [==============================] - 1s 119ms/step - loss: 0.4659 - val_loss: 0.4003\n",
      "Epoch 8/30\n",
      "9/9 [==============================] - ETA: 0s - loss: 0.4159\n",
      "Epoch 8: val_loss did not improve from 0.40028\n",
      "9/9 [==============================] - 1s 95ms/step - loss: 0.4159 - val_loss: 0.4088\n",
      "Epoch 9/30\n",
      "9/9 [==============================] - ETA: 0s - loss: 0.3659\n",
      "Epoch 9: val_loss improved from 0.40028 to 0.32829, saving model to ./data_out/seq2seq_kor/weights.h5\n",
      "9/9 [==============================] - 1s 117ms/step - loss: 0.3659 - val_loss: 0.3283\n",
      "Epoch 10/30\n",
      "9/9 [==============================] - ETA: 0s - loss: 0.3382\n",
      "Epoch 10: val_loss improved from 0.32829 to 0.28570, saving model to ./data_out/seq2seq_kor/weights.h5\n",
      "9/9 [==============================] - 1s 117ms/step - loss: 0.3382 - val_loss: 0.2857\n",
      "Epoch 11/30\n",
      "9/9 [==============================] - ETA: 0s - loss: 0.2843\n",
      "Epoch 11: val_loss improved from 0.28570 to 0.25662, saving model to ./data_out/seq2seq_kor/weights.h5\n",
      "9/9 [==============================] - 1s 117ms/step - loss: 0.2843 - val_loss: 0.2566\n",
      "Epoch 12/30\n",
      "9/9 [==============================] - ETA: 0s - loss: 0.2251\n",
      "Epoch 12: val_loss improved from 0.25662 to 0.21388, saving model to ./data_out/seq2seq_kor/weights.h5\n",
      "9/9 [==============================] - 1s 124ms/step - loss: 0.2251 - val_loss: 0.2139\n",
      "Epoch 13/30\n",
      "9/9 [==============================] - ETA: 0s - loss: 0.1896\n",
      "Epoch 13: val_loss did not improve from 0.21388\n",
      "9/9 [==============================] - 1s 95ms/step - loss: 0.1896 - val_loss: 0.2330\n",
      "Epoch 14/30\n",
      "9/9 [==============================] - ETA: 0s - loss: 0.1542\n",
      "Epoch 14: val_loss improved from 0.21388 to 0.13162, saving model to ./data_out/seq2seq_kor/weights.h5\n",
      "9/9 [==============================] - 1s 117ms/step - loss: 0.1542 - val_loss: 0.1316\n",
      "Epoch 15/30\n",
      "9/9 [==============================] - ETA: 0s - loss: 0.1156\n",
      "Epoch 15: val_loss did not improve from 0.13162\n",
      "9/9 [==============================] - 1s 95ms/step - loss: 0.1156 - val_loss: 0.1459\n",
      "Epoch 16/30\n",
      "9/9 [==============================] - ETA: 0s - loss: 0.0982\n",
      "Epoch 16: val_loss did not improve from 0.13162\n",
      "9/9 [==============================] - 1s 95ms/step - loss: 0.0982 - val_loss: 0.1464\n",
      "Epoch 17/30\n",
      "9/9 [==============================] - ETA: 0s - loss: 0.0862\n",
      "Epoch 17: val_loss did not improve from 0.13162\n",
      "9/9 [==============================] - 1s 96ms/step - loss: 0.0862 - val_loss: 0.1654\n",
      "Epoch 18/30\n",
      "9/9 [==============================] - ETA: 0s - loss: 0.0716\n",
      "Epoch 18: val_loss did not improve from 0.13162\n",
      "9/9 [==============================] - 1s 95ms/step - loss: 0.0716 - val_loss: 0.2075\n",
      "Epoch 19/30\n",
      "9/9 [==============================] - ETA: 0s - loss: 0.0516\n",
      "Epoch 19: val_loss did not improve from 0.13162\n",
      "9/9 [==============================] - 1s 96ms/step - loss: 0.0516 - val_loss: 0.2430\n",
      "Epoch 20/30\n",
      "9/9 [==============================] - ETA: 0s - loss: 0.0743\n",
      "Epoch 20: val_loss did not improve from 0.13162\n",
      "9/9 [==============================] - 1s 95ms/step - loss: 0.0743 - val_loss: 0.1990\n",
      "Epoch 21/30\n",
      "9/9 [==============================] - ETA: 0s - loss: 0.0524\n",
      "Epoch 21: val_loss did not improve from 0.13162\n",
      "9/9 [==============================] - 1s 95ms/step - loss: 0.0524 - val_loss: 0.2312\n",
      "Epoch 22/30\n",
      "9/9 [==============================] - ETA: 0s - loss: 0.0389\n",
      "Epoch 22: val_loss did not improve from 0.13162\n",
      "9/9 [==============================] - 1s 95ms/step - loss: 0.0389 - val_loss: 0.2606\n",
      "Epoch 23/30\n",
      "9/9 [==============================] - ETA: 0s - loss: 0.0198\n",
      "Epoch 23: val_loss did not improve from 0.13162\n",
      "9/9 [==============================] - 1s 95ms/step - loss: 0.0198 - val_loss: 0.3277\n",
      "Epoch 24/30\n",
      "9/9 [==============================] - ETA: 0s - loss: 0.0119\n",
      "Epoch 24: val_loss did not improve from 0.13162\n",
      "9/9 [==============================] - 1s 96ms/step - loss: 0.0119 - val_loss: 0.3560\n"
     ]
    }
   ],
   "source": [
    "PATH = DATA_OUT_PATH + MODEL_NAME\n",
    "if not(os.path.isdir(PATH)):\n",
    "        os.makedirs(os.path.join(PATH))\n",
    "        \n",
    "checkpoint_path = DATA_OUT_PATH + MODEL_NAME + '/weights.h5'\n",
    "\n",
    "cp_callback = keras.callbacks.ModelCheckpoint(\n",
    "    checkpoint_path, monitor='val_loss', verbose=1, save_best_only=True, save_weights_only=True)\n",
    "earlystop_callback = keras.callbacks.EarlyStopping(monitor='val_loss', min_delta=0.01, patience=10)\n",
    "history = model.fit([index_inputs, index_outputs], index_targets,\n",
    "                    batch_size=BATCH_SIZE, epochs=EPOCH,\n",
    "                    validation_split=VALIDATION_SPLIT, \n",
    "                    callbacks=[earlystop_callback, cp_callback])"
   ]
  },
  {
   "cell_type": "code",
   "execution_count": 140,
   "metadata": {},
   "outputs": [],
   "source": [
    "def plot_graphs(history, string):\n",
    "    plt.plot(history.history[string])\n",
    "    plt.plot(history.history['val_'+ string], '')\n",
    "    plt.xlabel(\"Epochs\")\n",
    "    plt.ylabel(string)\n",
    "    plt.ylim(0, 1)\n",
    "    plt.legend([string, 'val_'+string])\n",
    "    plt.show()"
   ]
  },
  {
   "cell_type": "code",
   "execution_count": 141,
   "metadata": {},
   "outputs": [
    {
     "data": {
      "image/png": "[encoded data removed]",
      "text/plain": [
       "<Figure size 640x480 with 1 Axes>"
      ]
     },
     "metadata": {},
     "output_type": "display_data"
    }
   ],
   "source": [
    "plot_graphs(history, 'loss')"
   ]
  },
  {
   "cell_type": "markdown",
   "metadata": {},
   "source": [
    "## 결과 확인"
   ]
  },
  {
   "cell_type": "code",
   "execution_count": 142,
   "metadata": {},
   "outputs": [],
   "source": [
    "SAVE_FILE_NM = \"weights.h5\"\n",
    "model.load_weights(os.path.join(DATA_OUT_PATH, MODEL_NAME, SAVE_FILE_NM))"
   ]
  },
  {
   "cell_type": "code",
   "execution_count": 143,
   "metadata": {},
   "outputs": [],
   "source": [
    "FILTERS = \"([~.,!?\\\"':;)(])\"\n",
    "CHANGE_FILTER = re.compile(FILTERS)\n",
    "\n",
    "\n",
    "PAD = \"<PAD>\"\n",
    "STD = \"<SOS>\"\n",
    "END = \"<END>\"\n",
    "UNK = \"<UNK>\"\n",
    "\n",
    "\n",
    "def prepro_like_morphlized(data):\n",
    "    morph_analyzer = Okt()\n",
    "    result_data = list()\n",
    "    for seq in tqdm(data):\n",
    "        morphlized_seq = \" \".join(morph_analyzer.morphs(seq.replace(' ', '')))\n",
    "        result_data.append(morphlized_seq)\n",
    "\n",
    "    return result_data\n",
    "\n",
    "def enc_processing(value, dictionary, tokenize_as_morph=False):\n",
    "    sequences_input_index = []\n",
    "    sequences_length = []\n",
    "\n",
    "    if tokenize_as_morph:\n",
    "        value = prepro_like_morphlized(value)\n",
    "\n",
    "    for sequence in value:\n",
    "        sequence = re.sub(CHANGE_FILTER, \"\", sequence)\n",
    "\n",
    "        sequence_index = []\n",
    "        for word in sequence.split():\n",
    "            if dictionary.get(word) is not None:\n",
    "                sequence_index.extend([dictionary[word]])\n",
    "            else:\n",
    "                sequence_index.extend([dictionary[UNK]])\n",
    "\n",
    "        if len(sequence_index) > MAX_SEQUENCE:\n",
    "            sequence_index = sequence_index[:MAX_SEQUENCE]\n",
    "\n",
    "        sequences_length.append(len(sequence_index))\n",
    "        sequence_index += (MAX_SEQUENCE - len(sequence_index)) * [dictionary[PAD]]\n",
    "        sequences_input_index.append(sequence_index)\n",
    "\n",
    "    return np.asarray(sequences_input_index), sequences_length"
   ]
  },
  {
   "cell_type": "code",
   "execution_count": 151,
   "metadata": {},
   "outputs": [
    {
     "name": "stdout",
     "output_type": "stream",
     "text": [
      "[[96 98 42 81  0  0  0  0  0  0  0  0  0  0  0  0  0  0  0  0  0  0  0  0\n",
      "   0]]\n",
      "[ 6 26 73 35]\n",
      "평소에 필요한 것 생각해보세요\n"
     ]
    }
   ],
   "source": [
    "# query = \"남자친구가 나 안 믿어줘\"\n",
    "\n",
    "query = \"남자친구 교회 데려가고 싶어\"\n",
    "\n",
    "\n",
    "test_index_inputs, _ = enc_processing([query], char2idx) \n",
    "print(test_index_inputs)\n",
    "\n",
    "predict_tokens = model.inference(test_index_inputs)\n",
    "print(predict_tokens)\n",
    "\n",
    "print(' '.join([idx2char[str(t)] for t in predict_tokens]))"
   ]
  }
 ],
 "metadata": {
  "kernelspec": {
   "display_name": "mytf",
   "language": "python",
   "name": "python3"
  },
  "language_info": {
   "codemirror_mode": {
    "name": "ipython",
    "version": 3
   },
   "file_extension": ".py",
   "mimetype": "text/x-python",
   "name": "python",
   "nbconvert_exporter": "python",
   "pygments_lexer": "ipython3",
   "version": "3.9.0"
  }
 },
 "nbformat": 4,
 "nbformat_minor": 2
}
