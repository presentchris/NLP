{
  "nbformat": 4,
  "nbformat_minor": 0,
  "metadata": {
    "colab": {
      "provenance": []
    },
    "kernelspec": {
      "name": "python3",
      "display_name": "Python 3"
    },
    "language_info": {
      "name": "python"
    }
  },
  "cells": [
    {
      "cell_type": "code",
      "source": [
        "# !pip install konlpy\n",
        "# !pip install matplotlib\n",
        "# !pip install streamlit\n",
        "# !pip install tensorflow==2.13.0"
      ],
      "metadata": {
        "id": "EjGjdyPsrI87"
      },
      "execution_count": null,
      "outputs": []
    },
    {
      "cell_type": "code",
      "execution_count": null,
      "metadata": {
        "id": "bAPY5bQxqrJ3"
      },
      "outputs": [],
      "source": [
        "import tensorflow as tf\n",
        "from tensorflow import keras\n",
        "\n",
        "import numpy as np\n",
        "import os\n",
        "import matplotlib.pyplot as plt\n",
        "import re\n",
        "import json\n",
        "from konlpy.tag import Okt\n"
      ]
    },
    {
      "cell_type": "code",
      "source": [
        "DATA_IN_PATH = '/content/drive/MyDrive/Chatbot_data-master/data_in/'\n",
        "DATA_OUT_PATH ='/content/drive/MyDrive/Chatbot_data-master/data_out/'\n",
        "TRAIN_INPUTS = 'train_inputs.npy'\n",
        "TRAIN_OUTPUTS = 'train_outputs.npy'\n",
        "TRAIN_TARGETS = 'train_targets.npy'\n",
        "DATA_CONFIGS = 'data_configs.json'\n",
        "index_inputs = np.load(open(DATA_IN_PATH + TRAIN_INPUTS, 'rb'))\n",
        "index_outputs = np.load(open(DATA_IN_PATH + TRAIN_OUTPUTS, 'rb'))\n",
        "index_targets = np.load(open(DATA_IN_PATH + TRAIN_TARGETS, 'rb'))\n",
        "prepro_configs = json.load(open(DATA_IN_PATH + DATA_CONFIGS, 'r'))\n",
        "\n",
        "\n",
        "# index_inputs = np.load(open())"
      ],
      "metadata": {
        "id": "biogGV3WrDc-"
      },
      "execution_count": null,
      "outputs": []
    },
    {
      "cell_type": "code",
      "source": [
        "idx = 5\n",
        "\n",
        "print(index_inputs[idx])\n",
        "print(index_outputs[idx])\n",
        "print(index_targets[idx])"
      ],
      "metadata": {
        "colab": {
          "base_uri": "https://localhost:8080/"
        },
        "id": "Yf512T26soNV",
        "outputId": "0aede02c-acc6-40e7-a799-3da3c2a0b7bb"
      },
      "execution_count": null,
      "outputs": [
        {
          "output_type": "stream",
          "name": "stdout",
          "text": [
            "[51 67 24  0  0  0  0  0  0  0  0  0  0  0  0  0  0  0  0  0  0  0  0  0\n",
            "  0]\n",
            "[  1  42  83  23 109   0   0   0   0   0   0   0   0   0   0   0   0   0\n",
            "   0   0   0   0   0   0   0]\n",
            "[ 42  83  23 109   2   0   0   0   0   0   0   0   0   0   0   0   0   0\n",
            "   0   0   0   0   0   0   0]\n"
          ]
        }
      ]
    },
    {
      "cell_type": "code",
      "source": [
        "tf.random.set_seed(1)\n",
        "\n",
        "# 모델 변수값\n",
        "MODEL_NAME = 'seq2seq_kor'\n",
        "BATCH_SIZE = 2\n",
        "MAX_SEQUENCE = 25\n",
        "EPOCH = 20\n",
        "# GRU(RNN) hidden dim\n",
        "UNITS = 1024\n",
        "EMBEDDING_DIM = 256\n",
        "VALIDATION_SPLIT = 0.1\n",
        "\n",
        "char2idx = prepro_configs['char2idx']\n",
        "idx2char = prepro_configs['idx2char']\n",
        "std_index = prepro_configs['std_symbol']\n",
        "end_idx = prepro_configs['end_symbol']\n",
        "vocab_size = prepro_configs['vocab_size']\n",
        "\n",
        "print(char2idx)\n",
        "print(idx2char)\n",
        "print(std_index)\n",
        "print(end_idx)\n",
        "print(vocab_size)"
      ],
      "metadata": {
        "colab": {
          "base_uri": "https://localhost:8080/"
        },
        "id": "zyZkgY3js8Mx",
        "outputId": "4e612c2f-b0f3-456e-9b6a-19669388a3ad"
      },
      "execution_count": null,
      "outputs": [
        {
          "output_type": "stream",
          "name": "stdout",
          "text": [
            "{'<PAD>': 0, '<SOS>': 1, '<END>': 2, '<UNK>': 3, '뭐가': 4, '운동을': 5, '갔어': 6, '켜고': 7, '그럴': 8, '남자친구가': 9, '나왔다': 10, '같아요': 11, '해': 12, '나온거': 13, '안': 14, '것': 15, '구하셨나요': 16, '비싼데': 17, '가만': 18, '마세요': 19, '감기': 20, '결단은': 21, '거짓말': 22, '새출발': 23, '망함': 24, '데려가고': 25, '따뜻하게': 26, '즐기세요': 27, '뭘': 28, '집에': 29, '남자친구': 30, '좋다': 31, '혼자를': 32, '들어올': 33, '필요한': 34, '나라를': 35, '선물로': 36, '잘생겼어': 37, '땀난다': 38, '게': 39, '혼자인게': 40, '뭐하는지': 41, '어서': 42, '보인다': 43, '거예요': 44, '더': 45, '사세요': 46, '나갔어': 47, '승진': 48, '또': 49, '마음을': 50, '가상화폐': 51, '오늘': 52, '그': 53, '땀을': 54, '자의': 55, '줄까': 56, '같아': 57, '나오세요': 58, '싶어': 59, '운동만': 60, '좋을': 61, '절약해봐요': 62, '빠를수록': 63, '좋아요': 64, '나': 65, '교회': 66, '쫄딱': 67, '끄고': 68, '가스비': 69, '많이': 70, '사람도': 71, '평소에': 72, '해보세요': 73, '있어도': 74, '걸리겠어': 75, '생각해보세요': 76, '궁금해': 77, '집착하지': 78, '훈훈해': 79, '운동': 80, '좀': 81, '너무': 82, '잊고': 83, '설득해보세요': 84, '질린다': 85, '다시': 86, '함께': 87, '돌아가서': 88, '바빠': 89, '가난한': 90, '켜놓고': 91, '좋을까?': 92, '가스불': 93, '생일인데': 94, '다음': 95, '식혀주세요': 96, '열': 97, '따라': 98, '믿어줘': 99, '필요했던': 100, '전생에': 101, '가끔': 102, '적당히': 103, '돈은': 104, '빨리': 105, '달에는': 106, '때까지': 107, '가끔은': 108, '하세요': 109, '설움': 110}\n",
            "{'0': '<PAD>', '1': '<SOS>', '2': '<END>', '3': '<UNK>', '4': '뭐가', '5': '운동을', '6': '갔어', '7': '켜고', '8': '그럴', '9': '남자친구가', '10': '나왔다', '11': '같아요', '12': '해', '13': '나온거', '14': '안', '15': '것', '16': '구하셨나요', '17': '비싼데', '18': '가만', '19': '마세요', '20': '감기', '21': '결단은', '22': '거짓말', '23': '새출발', '24': '망함', '25': '데려가고', '26': '따뜻하게', '27': '즐기세요', '28': '뭘', '29': '집에', '30': '남자친구', '31': '좋다', '32': '혼자를', '33': '들어올', '34': '필요한', '35': '나라를', '36': '선물로', '37': '잘생겼어', '38': '땀난다', '39': '게', '40': '혼자인게', '41': '뭐하는지', '42': '어서', '43': '보인다', '44': '거예요', '45': '더', '46': '사세요', '47': '나갔어', '48': '승진', '49': '또', '50': '마음을', '51': '가상화폐', '52': '오늘', '53': '그', '54': '땀을', '55': '자의', '56': '줄까', '57': '같아', '58': '나오세요', '59': '싶어', '60': '운동만', '61': '좋을', '62': '절약해봐요', '63': '빠를수록', '64': '좋아요', '65': '나', '66': '교회', '67': '쫄딱', '68': '끄고', '69': '가스비', '70': '많이', '71': '사람도', '72': '평소에', '73': '해보세요', '74': '있어도', '75': '걸리겠어', '76': '생각해보세요', '77': '궁금해', '78': '집착하지', '79': '훈훈해', '80': '운동', '81': '좀', '82': '너무', '83': '잊고', '84': '설득해보세요', '85': '질린다', '86': '다시', '87': '함께', '88': '돌아가서', '89': '바빠', '90': '가난한', '91': '켜놓고', '92': '좋을까?', '93': '가스불', '94': '생일인데', '95': '다음', '96': '식혀주세요', '97': '열', '98': '따라', '99': '믿어줘', '100': '필요했던', '101': '전생에', '102': '가끔', '103': '적당히', '104': '돈은', '105': '빨리', '106': '달에는', '107': '때까지', '108': '가끔은', '109': '하세요', '110': '설움'}\n",
            "<SOS>\n",
            "<END>\n",
            "111\n"
          ]
        }
      ]
    },
    {
      "cell_type": "markdown",
      "source": [
        "## **Encoder 만들기**"
      ],
      "metadata": {
        "id": "9OnEtcAVMI5Y"
      }
    },
    {
      "cell_type": "code",
      "source": [
        "class Encoder(keras.layers.Layer):\n",
        "  def __init__(self, vocab_size, embedding_dim, enc_units, batch_sz):\n",
        "    super(Encoder, self).__init__()\n",
        "    self.batch_size = batch_sz\n",
        "    self.enc_units = enc_units\n",
        "    self.vocab_size = vocab_size\n",
        "    self.embedding = embedding_dim\n",
        "    self.embedding = keras.layers.Embedding(vocab_size, embedding_dim)\n",
        "    self.gru = keras.layers.GRU(enc_units, return_sequences=True,\n",
        "                                return_state=True,\n",
        "                                recurrent_initializer='glorot_uniform')\n",
        "\n",
        "  def call(self, x, hidden):\n",
        "    x = self.embedding(x)\n",
        "    _, state = self.gru(x, initial_state=hidden)\n",
        "\n",
        "    return state\n",
        "\n",
        "  def initialize_hidden_state(self, inp):\n",
        "    return tf.zeros((tf.shape(inp)[0], self.enc_units))"
      ],
      "metadata": {
        "id": "9jKOESLdFpH9"
      },
      "execution_count": null,
      "outputs": []
    },
    {
      "cell_type": "markdown",
      "source": [
        "## **Decoder 만들기**\n",
        "\n"
      ],
      "metadata": {
        "id": "ocJDXq8mUnXx"
      }
    },
    {
      "cell_type": "code",
      "source": [
        "class Decoder(keras.layers.Layer):\n",
        "  def __init__(self, vocab_size, embedding_dim, dec_units, batch_sz):\n",
        "    super(Decoder, self).__init__()\n",
        "    self.batch_size = batch_sz\n",
        "    self.enc_units = dec_units\n",
        "    self.vocab_size = vocab_size\n",
        "    self.embedding = embedding_dim\n",
        "    self.embedding = keras.layers.Embedding(vocab_size, embedding_dim)\n",
        "    self.gru = keras.layers.GRU(dec_units, return_sequences=True,\n",
        "                                return_state=True,\n",
        "                                recurrent_initializer='glorot_uniform')\n",
        "    self.fc = keras.layers.Dense(self.vocab_size, activation = 'softmax')\n",
        "\n",
        "\n",
        "  def call(self, x, dec_hidden):\n",
        "    x = self.embedding(x)\n",
        "    output, state = self.gru(x)\n",
        "    output = tf.reshape(output, (-1, output.shape[2]))\n",
        "    x = self.fc(output)\n",
        "\n",
        "    return x, state, output"
      ],
      "metadata": {
        "id": "YqhUTe6AQete"
      },
      "execution_count": null,
      "outputs": []
    },
    {
      "cell_type": "code",
      "source": [
        "loss_object = keras.losses.SparseCategoricalCrossentropy(from_logits=True, reduction = 'none')\n",
        "\n",
        "# zero padding 해준 결과 0으로 처리된 값을 계산하지 않도록 하는 함수\n",
        "\n",
        "def loss(real, pred):\n",
        "  mask = tf.math.logical_not(tf.math.equal(real, 0))\n",
        "  loss_ = loss_object(real, pred)\n",
        "  mask = tf.cast(mask, dtype=loss_.dtype)\n",
        "  loss_ *= mask\n",
        "  return tf.reduce_mean(loss_)\n"
      ],
      "metadata": {
        "id": "YYoy1HZmWqBH"
      },
      "execution_count": null,
      "outputs": []
    },
    {
      "cell_type": "markdown",
      "source": [
        "# **seq2seq 모델**"
      ],
      "metadata": {
        "id": "x-DjjoX5YNZk"
      }
    },
    {
      "cell_type": "code",
      "source": [
        "class seq2seq(keras.Model):\n",
        "  def __init__(self, vocab_size, embedding_dim, enc_units, dec_units, batch_sz, end_token_idx = 2):\n",
        "    super(seq2seq, self).__init__()\n",
        "    self.end_token_idx = end_token_idx\n",
        "    self.encoder = Encoder(vocab_size, embedding_dim, enc_units, batch_sz)\n",
        "    self.decoder = Decoder(vocab_size, embedding_dim, dec_units, batch_sz)\n",
        "\n",
        "\n",
        "  def call(self, x):\n",
        "    # index_inputs, index_outputs\n",
        "    inp, tar = x\n",
        "    end_hidden = self.encoder.initialize_hidden_state(inp)\n",
        "    enc_hidden = self.encoder(inp, end_hidden)\n",
        "    dec_hidden = enc_hidden\n",
        "\n",
        "    predict_tokens = []\n",
        "    for t in range(0, tar.shape[1]):\n",
        "      dec_input = tf.dtypes.cast(tf.expand_dims(tar[:, t],1), tf.float32)\n",
        "      predictions, dec_hidden, _ = self.decoder(dec_input, dec_hidden)\n",
        "      predict_tokens.append(tf.dtypes.cast(predictions, tf.float32))\n",
        "\n",
        "    predicted = tf.stack(predict_tokens, axis=1)\n",
        "\n",
        "    return predicted\n",
        "\n",
        "  def inference(self, x):\n",
        "    inp = x\n",
        "\n",
        "    enc_hidden_init = self.encoder.initialize_hidden_state(inp)\n",
        "    enc_hidden = self.encoder(inp, enc_hidden_init)\n",
        "    dec_hidden = enc_hidden\n",
        "    dec_input = tf.expand_dims([char2idx[std_index]], 1)\n",
        "\n",
        "    predict_tokens = []\n",
        "    for i in range(0, MAX_SEQUENCE):\n",
        "      predictions, dec_hidden, _ = self.decoder(dec_input, dec_hidden)\n",
        "      predict_token = tf.argmax(predictions[0])\n",
        "      if predict_token == self.end_token_idx:\n",
        "        break\n",
        "\n",
        "      predict_tokens.append(predict_token)\n",
        "      dec_input = tf.dtypes.cast(tf.expand_dims([predict_token], 0), tf.float32)\n",
        "\n",
        "    return tf.stack(predict_tokens, axis=0).numpy()\n"
      ],
      "metadata": {
        "id": "YpHHtuJtYSZU"
      },
      "execution_count": null,
      "outputs": []
    },
    {
      "cell_type": "code",
      "source": [
        "model = seq2seq(vocab_size, EMBEDDING_DIM, UNITS, UNITS, BATCH_SIZE, 2)\n",
        "model.compile(loss = loss, optimizer = keras.optimizers.Adam(1e-3))"
      ],
      "metadata": {
        "id": "dlLUh68DdFkV"
      },
      "execution_count": null,
      "outputs": []
    },
    {
      "cell_type": "code",
      "source": [
        "PATH = DATA_OUT_PATH + MODEL_NAME\n",
        "PATH"
      ],
      "metadata": {
        "colab": {
          "base_uri": "https://localhost:8080/",
          "height": 35
        },
        "id": "4rGf2rgatCS7",
        "outputId": "752e2297-4723-4160-bb47-38062c62a8e4"
      },
      "execution_count": null,
      "outputs": [
        {
          "output_type": "execute_result",
          "data": {
            "text/plain": [
              "'/content/drive/MyDrive/Chatbot_data-master/data_out/seq2seq_kor'"
            ],
            "application/vnd.google.colaboratory.intrinsic+json": {
              "type": "string"
            }
          },
          "metadata": {},
          "execution_count": 80
        }
      ]
    },
    {
      "cell_type": "code",
      "source": [
        "if not(os.path.isdir(PATH)):\n",
        "  os.makedirs(os.path.join(PATH))\n",
        "\n",
        "checkpoint_path = PATH + '/weight.h5'\n",
        "\n",
        "cp_callback = keras.callbacks.ModelCheckpoint(checkpoint_path,\n",
        "                                              monitor = 'val_loss', verbose = 1,\n",
        "                                              save_best_only=True,\n",
        "                                              save_weights_only=True)\n",
        "es_callback = keras.callbacks.EarlyStopping(monitor='val_loss', min_delta=0.01,\n",
        "                                            patience=5)\n",
        "history = model.fit([index_inputs, index_outputs], index_targets,\n",
        "                    batch_size=BATCH_SIZE, epochs = EPOCH,\n",
        "                    validation_split = VALIDATION_SPLIT,\n",
        "                    callbacks = [cp_callback, es_callback])"
      ],
      "metadata": {
        "colab": {
          "base_uri": "https://localhost:8080/"
        },
        "id": "w0GgNuuzvYYd",
        "outputId": "b5269f11-35d9-4ae2-9a14-19370dce1ea9"
      },
      "execution_count": null,
      "outputs": [
        {
          "output_type": "stream",
          "name": "stdout",
          "text": [
            "Epoch 1/20\n"
          ]
        },
        {
          "output_type": "stream",
          "name": "stderr",
          "text": [
            "WARNING:tensorflow:AutoGraph could not transform <function Model.make_train_function.<locals>.train_function at 0x79e584f88ee0> and will run it as-is.\n",
            "Please report this to the TensorFlow team. When filing the bug, set the verbosity to 10 (on Linux, `export AUTOGRAPH_VERBOSITY=10`) and attach the full output.\n",
            "Cause: Unknown node type <gast.gast.Assign object at 0x79e585017cd0>\n",
            "To silence this warning, decorate the function with @tf.autograph.experimental.do_not_convert\n"
          ]
        },
        {
          "output_type": "stream",
          "name": "stdout",
          "text": [
            "WARNING: AutoGraph could not transform <function Model.make_train_function.<locals>.train_function at 0x79e584f88ee0> and will run it as-is.\n",
            "Please report this to the TensorFlow team. When filing the bug, set the verbosity to 10 (on Linux, `export AUTOGRAPH_VERBOSITY=10`) and attach the full output.\n",
            "Cause: Unknown node type <gast.gast.Assign object at 0x79e585017cd0>\n",
            "To silence this warning, decorate the function with @tf.autograph.experimental.do_not_convert\n"
          ]
        },
        {
          "output_type": "stream",
          "name": "stderr",
          "text": [
            "WARNING:tensorflow:Gradients do not exist for variables ['seq2seq_5/encoder_5/embedding_10/embeddings:0', 'seq2seq_5/encoder_5/gru_10/gru_cell/kernel:0', 'seq2seq_5/encoder_5/gru_10/gru_cell/recurrent_kernel:0', 'seq2seq_5/encoder_5/gru_10/gru_cell/bias:0'] when minimizing the loss. If you're using `model.compile()`, did you forget to provide a `loss` argument?\n",
            "WARNING:tensorflow:Gradients do not exist for variables ['seq2seq_5/encoder_5/embedding_10/embeddings:0', 'seq2seq_5/encoder_5/gru_10/gru_cell/kernel:0', 'seq2seq_5/encoder_5/gru_10/gru_cell/recurrent_kernel:0', 'seq2seq_5/encoder_5/gru_10/gru_cell/bias:0'] when minimizing the loss. If you're using `model.compile()`, did you forget to provide a `loss` argument?\n",
            "WARNING:tensorflow:Gradients do not exist for variables ['seq2seq_5/encoder_5/embedding_10/embeddings:0', 'seq2seq_5/encoder_5/gru_10/gru_cell/kernel:0', 'seq2seq_5/encoder_5/gru_10/gru_cell/recurrent_kernel:0', 'seq2seq_5/encoder_5/gru_10/gru_cell/bias:0'] when minimizing the loss. If you're using `model.compile()`, did you forget to provide a `loss` argument?\n",
            "WARNING:tensorflow:Gradients do not exist for variables ['seq2seq_5/encoder_5/embedding_10/embeddings:0', 'seq2seq_5/encoder_5/gru_10/gru_cell/kernel:0', 'seq2seq_5/encoder_5/gru_10/gru_cell/recurrent_kernel:0', 'seq2seq_5/encoder_5/gru_10/gru_cell/bias:0'] when minimizing the loss. If you're using `model.compile()`, did you forget to provide a `loss` argument?\n"
          ]
        },
        {
          "output_type": "stream",
          "name": "stdout",
          "text": [
            "9/9 [==============================] - ETA: 0s - loss: 0.8686"
          ]
        },
        {
          "output_type": "stream",
          "name": "stderr",
          "text": [
            "WARNING:tensorflow:AutoGraph could not transform <function Model.make_test_function.<locals>.test_function at 0x79e57ef176d0> and will run it as-is.\n",
            "Please report this to the TensorFlow team. When filing the bug, set the verbosity to 10 (on Linux, `export AUTOGRAPH_VERBOSITY=10`) and attach the full output.\n",
            "Cause: closure mismatch, requested ('self', 'step_function'), but source function had ()\n",
            "To silence this warning, decorate the function with @tf.autograph.experimental.do_not_convert\n"
          ]
        },
        {
          "output_type": "stream",
          "name": "stdout",
          "text": [
            "WARNING: AutoGraph could not transform <function Model.make_test_function.<locals>.test_function at 0x79e57ef176d0> and will run it as-is.\n",
            "Please report this to the TensorFlow team. When filing the bug, set the verbosity to 10 (on Linux, `export AUTOGRAPH_VERBOSITY=10`) and attach the full output.\n",
            "Cause: closure mismatch, requested ('self', 'step_function'), but source function had ()\n",
            "To silence this warning, decorate the function with @tf.autograph.experimental.do_not_convert\n",
            "\n",
            "Epoch 1: val_loss improved from inf to 0.75344, saving model to /content/drive/MyDrive/Chatbot_data-master/data_out/seq2seq_kor/weight.h5\n",
            "9/9 [==============================] - 66s 3s/step - loss: 0.8686 - val_loss: 0.7534\n",
            "Epoch 2/20\n",
            "9/9 [==============================] - ETA: 0s - loss: 0.8685\n",
            "Epoch 2: val_loss improved from 0.75344 to 0.75329, saving model to /content/drive/MyDrive/Chatbot_data-master/data_out/seq2seq_kor/weight.h5\n",
            "9/9 [==============================] - 10s 1s/step - loss: 0.8685 - val_loss: 0.7533\n",
            "Epoch 3/20\n",
            "9/9 [==============================] - ETA: 0s - loss: 0.8682\n",
            "Epoch 3: val_loss improved from 0.75329 to 0.75295, saving model to /content/drive/MyDrive/Chatbot_data-master/data_out/seq2seq_kor/weight.h5\n",
            "9/9 [==============================] - 8s 934ms/step - loss: 0.8682 - val_loss: 0.7530\n",
            "Epoch 4/20\n",
            "9/9 [==============================] - ETA: 0s - loss: 0.8674\n",
            "Epoch 4: val_loss improved from 0.75295 to 0.75184, saving model to /content/drive/MyDrive/Chatbot_data-master/data_out/seq2seq_kor/weight.h5\n",
            "9/9 [==============================] - 10s 1s/step - loss: 0.8674 - val_loss: 0.7518\n",
            "Epoch 5/20\n",
            "9/9 [==============================] - ETA: 0s - loss: 0.8621\n",
            "Epoch 5: val_loss improved from 0.75184 to 0.74284, saving model to /content/drive/MyDrive/Chatbot_data-master/data_out/seq2seq_kor/weight.h5\n",
            "9/9 [==============================] - 8s 914ms/step - loss: 0.8621 - val_loss: 0.7428\n",
            "Epoch 6/20\n",
            "9/9 [==============================] - ETA: 0s - loss: 0.8371\n",
            "Epoch 6: val_loss improved from 0.74284 to 0.71547, saving model to /content/drive/MyDrive/Chatbot_data-master/data_out/seq2seq_kor/weight.h5\n",
            "9/9 [==============================] - 10s 1s/step - loss: 0.8371 - val_loss: 0.7155\n",
            "Epoch 7/20\n",
            "9/9 [==============================] - ETA: 0s - loss: 0.8291\n",
            "Epoch 7: val_loss improved from 0.71547 to 0.71394, saving model to /content/drive/MyDrive/Chatbot_data-master/data_out/seq2seq_kor/weight.h5\n",
            "9/9 [==============================] - 8s 908ms/step - loss: 0.8291 - val_loss: 0.7139\n",
            "Epoch 8/20\n",
            "9/9 [==============================] - ETA: 0s - loss: 0.8284\n",
            "Epoch 8: val_loss improved from 0.71394 to 0.71365, saving model to /content/drive/MyDrive/Chatbot_data-master/data_out/seq2seq_kor/weight.h5\n",
            "9/9 [==============================] - 10s 1s/step - loss: 0.8284 - val_loss: 0.7137\n",
            "Epoch 9/20\n",
            "9/9 [==============================] - ETA: 0s - loss: 0.8278\n",
            "Epoch 9: val_loss improved from 0.71365 to 0.71344, saving model to /content/drive/MyDrive/Chatbot_data-master/data_out/seq2seq_kor/weight.h5\n",
            "9/9 [==============================] - 8s 864ms/step - loss: 0.8278 - val_loss: 0.7134\n",
            "Epoch 10/20\n",
            "9/9 [==============================] - ETA: 0s - loss: 0.8264\n",
            "Epoch 10: val_loss did not improve from 0.71344\n",
            "9/9 [==============================] - 10s 1s/step - loss: 0.8264 - val_loss: 0.7136\n",
            "Epoch 11/20\n",
            "9/9 [==============================] - ETA: 0s - loss: 0.8251\n",
            "Epoch 11: val_loss did not improve from 0.71344\n",
            "9/9 [==============================] - 8s 839ms/step - loss: 0.8251 - val_loss: 0.7142\n"
          ]
        }
      ]
    },
    {
      "cell_type": "code",
      "source": [
        "def plot_graphs(history, string):\n",
        "    plt.plot(history.history[string])\n",
        "    plt.plot(history.history['val_'+ string], '')\n",
        "    plt.xlabel(\"Epochs\")\n",
        "    plt.ylabel(string)\n",
        "    plt.ylim(0, 1)\n",
        "    plt.legend([string, 'val_'+string])\n",
        "    plt.show()"
      ],
      "metadata": {
        "id": "l6p4X4q2voCF"
      },
      "execution_count": null,
      "outputs": []
    },
    {
      "cell_type": "code",
      "source": [
        "plot_graphs(history, 'loss')"
      ],
      "metadata": {
        "colab": {
          "base_uri": "https://localhost:8080/",
          "height": 449
        },
        "id": "hZAFRTRt2P78",
        "outputId": "8cd2e372-37a2-4ba8-fadc-56e06566fecc"
      },
      "execution_count": null,
      "outputs": [
        {
          "output_type": "display_data",
          "data": {
            "text/plain": [
              "<Figure size 640x480 with 1 Axes>"
            ],
            "image/png": "[encoded data removed]"
          },
          "metadata": {}
        }
      ]
    },
    {
      "cell_type": "code",
      "source": [
        "SAVE_FILE_NM = \"weight.h5\"\n",
        "model.load_weights(os.path.join(DATA_OUT_PATH, MODEL_NAME, SAVE_FILE_NM))"
      ],
      "metadata": {
        "id": "Vc1fsW5o3KRg"
      },
      "execution_count": null,
      "outputs": []
    },
    {
      "cell_type": "code",
      "source": [
        "# !pip install tqdm"
      ],
      "metadata": {
        "colab": {
          "base_uri": "https://localhost:8080/"
        },
        "id": "7spSOKFJ5Gps",
        "outputId": "9436f86f-11ad-4519-fc8b-56be27fa9c7c"
      },
      "execution_count": null,
      "outputs": [
        {
          "output_type": "stream",
          "name": "stdout",
          "text": [
            "Requirement already satisfied: tqdm in /usr/local/lib/python3.10/dist-packages (4.66.1)\n"
          ]
        }
      ]
    },
    {
      "cell_type": "code",
      "source": [
        "from tqdm import tqdm\n",
        "\n",
        "FILTERS = \"([~.,!?\\\"':;)(])\"\n",
        "CHANGE_FILTER = re.compile(FILTERS)\n",
        "\n",
        "\n",
        "PAD = \"<PAD>\"\n",
        "STD = \"<SOS>\"\n",
        "END = \"<END>\"\n",
        "UNK = \"<UNK>\"\n",
        "\n",
        "\n",
        "def prepro_like_morphlized(data):\n",
        "    morph_analyzer = Okt()\n",
        "    result_data = list()\n",
        "    for seq in tqdm(data):\n",
        "        morphlized_seq = \" \".join(morph_analyzer.morphs(seq.replace(' ', '')))\n",
        "        result_data.append(morphlized_seq)\n",
        "\n",
        "    return result_data\n",
        "\n",
        "def enc_processing(value, dictionary, tokenize_as_morph=False):\n",
        "    sequences_input_index = []\n",
        "    sequences_length = []\n",
        "\n",
        "    if tokenize_as_morph:\n",
        "        value = prepro_like_morphlized(value)\n",
        "\n",
        "    for sequence in value:\n",
        "        sequence = re.sub(CHANGE_FILTER, \"\", sequence)\n",
        "\n",
        "        sequence_index = []\n",
        "        for word in sequence.split():\n",
        "            if dictionary.get(word) is not None:\n",
        "                sequence_index.extend([dictionary[word]])\n",
        "            else:\n",
        "                sequence_index.extend([dictionary[UNK]])\n",
        "\n",
        "        if len(sequence_index) > MAX_SEQUENCE:\n",
        "            sequence_index = sequence_index[:MAX_SEQUENCE]\n",
        "\n",
        "        sequences_length.append(len(sequence_index))\n",
        "        sequence_index += (MAX_SEQUENCE - len(sequence_index)) * [dictionary[PAD]]\n",
        "        sequences_input_index.append(sequence_index)\n",
        "\n",
        "    return np.asarray(sequences_input_index), sequences_length"
      ],
      "metadata": {
        "id": "mkwoycEJ3iPI"
      },
      "execution_count": null,
      "outputs": []
    },
    {
      "cell_type": "code",
      "source": [
        "# query = \"남자친구 승진 선물로 뭐가 좋을까?\"\n",
        "\n",
        "query = \"남자친구가 너무 바빠\"\n",
        "\n",
        "\n",
        "test_index_inputs, _ = enc_processing([query], char2idx)\n",
        "print(test_index_inputs)\n",
        "\n",
        "predict_tokens = model.inference(test_index_inputs)\n",
        "print(predict_tokens)\n",
        "\n",
        "print(' '.join([idx2char[str(t)] for t in predict_tokens]))"
      ],
      "metadata": {
        "colab": {
          "base_uri": "https://localhost:8080/"
        },
        "id": "kRBSxWdx5NCa",
        "outputId": "0c149d16-eeae-449a-fad4-3249372389b9"
      },
      "execution_count": null,
      "outputs": [
        {
          "output_type": "stream",
          "name": "stdout",
          "text": [
            "[[ 9 82 89  0  0  0  0  0  0  0  0  0  0  0  0  0  0  0  0  0  0  0  0  0\n",
            "   0]]\n",
            "[105]\n",
            "빨리\n"
          ]
        }
      ]
    },
    {
      "cell_type": "code",
      "source": [],
      "metadata": {
        "id": "JOrNTTjV5gXW"
      },
      "execution_count": null,
      "outputs": []
    }
  ]
}