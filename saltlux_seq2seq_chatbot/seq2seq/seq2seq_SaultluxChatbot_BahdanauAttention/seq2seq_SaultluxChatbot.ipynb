{
 "cells": [
  {
   "cell_type": "code",
   "execution_count": 2,
   "metadata": {},
   "outputs": [
    {
     "name": "stdout",
     "output_type": "stream",
     "text": [
      "WARNING:tensorflow:From c:\\Users\\nbumk\\anaconda3\\envs\\mytf\\lib\\site-packages\\keras\\src\\losses.py:2976: The name tf.losses.sparse_softmax_cross_entropy is deprecated. Please use tf.compat.v1.losses.sparse_softmax_cross_entropy instead.\n",
      "\n"
     ]
    },
    {
     "data": {
      "text/plain": [
       "'c:\\\\Users\\\\nbumk\\\\anaconda3\\\\envs\\\\mytf\\\\lib\\\\site-packages\\\\matplotlib\\\\pyplot.py'"
      ]
     },
     "execution_count": 2,
     "metadata": {},
     "output_type": "execute_result"
    }
   ],
   "source": [
    "import tensorflow as tf\n",
    "from tensorflow import keras\n",
    "\n",
    "import numpy as np\n",
    "import os\n",
    "import matplotlib.pyplot as plt\n",
    "import inspect\n",
    "import json\n",
    "\n",
    "import re\n",
    "from tqdm import tqdm\n",
    "from konlpy.tag import Okt\n",
    "\n",
    "inspect.getfile(plt)"
   ]
  },
  {
   "cell_type": "code",
   "execution_count": 241,
   "metadata": {},
   "outputs": [],
   "source": [
    "## gpu driver 확인\n",
    "# gpu = tf.config.list_physical_devices('GPU')\n",
    "# tf.config.experimental.set_memory_growth(gpu[0], enable=True)\n",
    "# print(gpu)"
   ]
  },
  {
   "cell_type": "code",
   "execution_count": 4,
   "metadata": {},
   "outputs": [],
   "source": [
    "## Data 경로 설정\n",
    "DATA_IN_PATH = './data_in/csv_short/'\n",
    "DATA_OUT_PATH = './data_out/csv_short/'\n",
    "TRAIN_INPUTS = 'train_inputs.npy'\n",
    "TRAIN_OUTPUTS = 'train_outputs.npy'\n",
    "TRAIN_TARGETS = 'train_targets.npy'\n",
    "DATA_CONFIGS = 'data_configs.json'\n",
    "\n",
    "## 파일 일기\n",
    "index_inputs = np.load(open(DATA_IN_PATH + TRAIN_INPUTS, 'rb'))\n",
    "index_outputs = np.load(open(DATA_IN_PATH + TRAIN_OUTPUTS , 'rb'))\n",
    "index_targets = np.load(open(DATA_IN_PATH + TRAIN_TARGETS , 'rb'))\n",
    "prepro_configs = json.load(open(DATA_IN_PATH + DATA_CONFIGS, 'r'))"
   ]
  },
  {
   "cell_type": "code",
   "execution_count": 5,
   "metadata": {},
   "outputs": [
    {
     "name": "stdout",
     "output_type": "stream",
     "text": [
      "{'<PAD>': 0, '<SOS>': 1, '<END>': 2, '<UNK>': 3, '구하셨나요': 4, '어서': 5, '평소에': 6, '바빠': 7, '잘생겼어': 8, '돌아가서': 9, '가스불': 10, '게': 11, '더': 12, '결단은': 13, '운동만': 14, '뭐하는지': 15, '마세요': 16, '좀': 17, '같아': 18, '나오세요': 19, '같아요': 20, '안': 21, '혼자를': 22, '나': 23, '적당히': 24, '다시': 25, '필요한': 26, '따뜻하게': 27, '너무': 28, '하세요': 29, '거예요': 30, '전생에': 31, '필요했던': 32, '자의': 33, '가상화폐': 34, '생각해보세요': 35, '켜놓고': 36, '켜고': 37, '따라': 38, '생일인데': 39, '집착하지': 40, '집에': 41, '데려가고': 42, '또': 43, '좋아요': 44, '좋다': 45, '달에는': 46, '즐기세요': 47, '열': 48, '끄고': 49, '식혀주세요': 50, '마음을': 51, '있어도': 52, '가끔': 53, '많이': 54, '때까지': 55, '훈훈해': 56, '오늘': 57, '그럴': 58, '뭘': 59, '가난한': 60, '운동을': 61, '돈은': 62, '좋을까': 63, '들어올': 64, '사세요': 65, '사람도': 66, '질린다': 67, '망함': 68, '선물로': 69, '뭐가': 70, '나온거': 71, '그': 72, '것': 73, '나갔어': 74, '거짓말': 75, '감기': 76, '쫄딱': 77, '땀난다': 78, '좋을': 79, '설득해보세요': 80, '싶어': 81, '궁금해': 82, '승진': 83, '보인다': 84, '믿어줘': 85, '땀을': 86, '다음': 87, '갔어': 88, '걸리겠어': 89, '줄까': 90, '설움': 91, '잊고': 92, '혼자인게': 93, '새출발': 94, '함께': 95, '남자친구': 96, '해': 97, '교회': 98, '빨리': 99, '가끔은': 100, '남자친구가': 101, '비싼데': 102, '해보세요': 103, '빠를수록': 104, '나라를': 105, '가스비': 106, '나왔다': 107, '운동': 108, '절약해봐요': 109, '가만': 110}\n",
      "{'0': '<PAD>', '1': '<SOS>', '2': '<END>', '3': '<UNK>', '4': '구하셨나요', '5': '어서', '6': '평소에', '7': '바빠', '8': '잘생겼어', '9': '돌아가서', '10': '가스불', '11': '게', '12': '더', '13': '결단은', '14': '운동만', '15': '뭐하는지', '16': '마세요', '17': '좀', '18': '같아', '19': '나오세요', '20': '같아요', '21': '안', '22': '혼자를', '23': '나', '24': '적당히', '25': '다시', '26': '필요한', '27': '따뜻하게', '28': '너무', '29': '하세요', '30': '거예요', '31': '전생에', '32': '필요했던', '33': '자의', '34': '가상화폐', '35': '생각해보세요', '36': '켜놓고', '37': '켜고', '38': '따라', '39': '생일인데', '40': '집착하지', '41': '집에', '42': '데려가고', '43': '또', '44': '좋아요', '45': '좋다', '46': '달에는', '47': '즐기세요', '48': '열', '49': '끄고', '50': '식혀주세요', '51': '마음을', '52': '있어도', '53': '가끔', '54': '많이', '55': '때까지', '56': '훈훈해', '57': '오늘', '58': '그럴', '59': '뭘', '60': '가난한', '61': '운동을', '62': '돈은', '63': '좋을까', '64': '들어올', '65': '사세요', '66': '사람도', '67': '질린다', '68': '망함', '69': '선물로', '70': '뭐가', '71': '나온거', '72': '그', '73': '것', '74': '나갔어', '75': '거짓말', '76': '감기', '77': '쫄딱', '78': '땀난다', '79': '좋을', '80': '설득해보세요', '81': '싶어', '82': '궁금해', '83': '승진', '84': '보인다', '85': '믿어줘', '86': '땀을', '87': '다음', '88': '갔어', '89': '걸리겠어', '90': '줄까', '91': '설움', '92': '잊고', '93': '혼자인게', '94': '새출발', '95': '함께', '96': '남자친구', '97': '해', '98': '교회', '99': '빨리', '100': '가끔은', '101': '남자친구가', '102': '비싼데', '103': '해보세요', '104': '빠를수록', '105': '나라를', '106': '가스비', '107': '나왔다', '108': '운동', '109': '절약해봐요', '110': '가만'}\n",
      "<SOS>\n",
      "<END>\n",
      "vocab_size:  111\n"
     ]
    }
   ],
   "source": [
    "## Random seed 설정\n",
    "SEED_NUM = 1\n",
    "tf.random.set_seed(SEED_NUM)\n",
    "\n",
    "## 모델 변수값\n",
    "MODEL_NAME = 'seq2seq_kor'\n",
    "BATCH_SIZE = 2\n",
    "MAX_SEQUENCE = 25\n",
    "EPOCH = 30\n",
    "UNITS = 1024\n",
    "EMBEDDING_DIM = 256\n",
    "VALIDATION_SPLIT = 0.1 \n",
    "\n",
    "char2idx = prepro_configs['char2idx']\n",
    "idx2char = prepro_configs['idx2char']\n",
    "std_index = prepro_configs['std_symbol']\n",
    "end_index = prepro_configs['end_symbol']\n",
    "vocab_size = prepro_configs['vocab_size'] # ['<PAD>\\n', '<SOS>\\n', '<END>\\n', ... ,\n",
    "\n",
    "print(char2idx) # {'<PAD>': 0, '<SOS>': 1, '<END>': 2, '<UNK>': 3,\n",
    "print(idx2char) # {'0': '<PAD>', '1': '<SOS>', '2': '<END>', '3': '<UNK>', '4': '혼자인게', '5':  숫자 결과를 문장으로 변환할 때\n",
    "print(std_index) # <SOS>\n",
    "print(end_index) # <END>\n",
    "print('vocab_size: ', vocab_size) # 111"
   ]
  },
  {
   "cell_type": "markdown",
   "metadata": {},
   "source": [
    "## Encoder"
   ]
  },
  {
   "cell_type": "code",
   "execution_count": 244,
   "metadata": {},
   "outputs": [],
   "source": [
    "class Encoder(keras.layers.Layer):\n",
    "    def __init__(self, vocab_size, embedding_dim, enc_units, batch_sz):\n",
    "        super(Encoder, self).__init__()\n",
    "        self.batch_sz = batch_sz # 2\n",
    "        self.enc_units = enc_units # 1024\n",
    "        self.vocab_size = vocab_size # 111\n",
    "        self.embedding_dim = embedding_dim # 256\n",
    "        self.embedding = keras.layers.Embedding(self.vocab_size, self.embedding_dim)\n",
    "        self.gru = keras.layers.GRU(self.enc_units,\n",
    "                                    return_sequences=True,\n",
    "                                    return_state=True,\n",
    "                                    recurrent_initializer='glorot_uniform')\n",
    "        \n",
    "    def call(self, x, hidden):\n",
    "        x = self.embedding(x) # x shape = (20, 25)\n",
    "        # x shape = (20, 25, 256)\n",
    "        _, state = self.gru(x, initial_state=hidden)\n",
    "        # _ = (20, 25, 1024), state shape = (20, 1024)\n",
    "        return state # TensorShape([20, 1024])\n",
    "    \n",
    "    def initialize_hidden_state(self, inp):\n",
    "        return tf.zeros((tf.shape(inp)[0], self.enc_units)) # inp shape = [20, 25], self.enc_units = 1024"
   ]
  },
  {
   "cell_type": "code",
   "execution_count": 245,
   "metadata": {},
   "outputs": [],
   "source": [
    "################################# Code testing\n",
    "\n",
    "# train_X = [[[0.1, 4.2, 1.5, 1.1, 2.8], \n",
    "#            [1.0, 3.1, 2.5, 0.7, 1.1], \n",
    "#            [0.3, 2.1, 1.5, 2.1, 0.1], \n",
    "#            [2.2, 1.4, 0.5, 0.9, 1.1]]]\n",
    "# train_X = tf.convert_to_tensor(train_X, dtype=tf.float32)\n",
    "\n",
    "\n",
    "# gru =  tf.keras.layers.GRU(units = 3, \n",
    "#                            return_sequences=True, \n",
    "#                            return_state=True)\n",
    "# a, b = gru(train_X)\n",
    "# print(a) # encoder time-step\n",
    "# print(b)"
   ]
  },
  {
   "cell_type": "code",
   "execution_count": 246,
   "metadata": {},
   "outputs": [],
   "source": [
    "## Encoder check\n",
    "# enc_hidden_init = tf.random.normal((20, 1024))\n",
    "# # vocab_size = 111, EMBEDDING_DIM = 256, UNITS = 1024, BATCH_SIZE = 2\n",
    "# encoder = Encoder(vocab_size, EMBEDDING_DIM, UNITS, BATCH_SIZE) \n",
    "# enc_hidden = encoder(index_inputs, enc_hidden_init )\n",
    "# enc_hidden.shape"
   ]
  },
  {
   "cell_type": "markdown",
   "metadata": {},
   "source": [
    "## Decoder"
   ]
  },
  {
   "cell_type": "code",
   "execution_count": 247,
   "metadata": {},
   "outputs": [],
   "source": [
    "class Decoder(keras.layers.Layer):\n",
    "    def __init__(self, vocab_size, embedding_dim, dec_units, batch_sz):\n",
    "        super(Decoder, self).__init__()\n",
    "        \n",
    "        self.batch_sz = batch_sz\n",
    "        self.dec_units = dec_units\n",
    "        self.vocab_size = vocab_size\n",
    "        self.embedding_dim = embedding_dim\n",
    "        self.embedding = keras.layers.Embedding(self.vocab_size, self.embedding_dim)\n",
    "        self.gru = keras.layers.GRU(self.dec_units,\n",
    "                                    return_sequences=True,\n",
    "                                    return_state=True,\n",
    "                                    recurrent_initializer='glorot_uniform')\n",
    "        self.fc = keras.layers.Dense(self.vocab_size)\n",
    "        \n",
    "        \n",
    "    def call(self, x, dec_hidden):\n",
    "        x = self.embedding(x) #  x dec_input = tf.dtypes.cast(tf.expand_dims(tar[:, t], 1), tf.float32) shape =  (20, 1)\n",
    "        # x shape = (20, 1, 256)\n",
    "        \n",
    "        output, state = self.gru(x, dec_hidden) # state = dec_hidden\n",
    "        # output shape = (20, 1, 1024), state shape = (20, 1024)\n",
    "        output = tf.reshape(output, (-1, output.shape[2]))\n",
    "        x = self.fc(output)\n",
    "        # x shape = (20, 111)\n",
    "        \n",
    "        return x, state, output"
   ]
  },
  {
   "cell_type": "code",
   "execution_count": 248,
   "metadata": {},
   "outputs": [],
   "source": [
    "# decoder check\n",
    "# dec_input = tf.dtypes.cast(tf.expand_dims(index_outputs[:, 0], 1), tf.float32)\n",
    "# dec_hidden =  enc_hidden\n",
    "# # print(dec_input.shape) # (20, 1)\n",
    "\n",
    "# decoder = Decoder(vocab_size, EMBEDDING_DIM, UNITS, BATCH_SIZE)\n",
    "# x, stats, output = decoder(dec_input, dec_hidden)\n",
    "# print('x =', x.shape)\n",
    "# print('stats =', stats.shape)\n",
    "# print('output =', output.shape)"
   ]
  },
  {
   "cell_type": "markdown",
   "metadata": {},
   "source": [
    "## Loss Function"
   ]
  },
  {
   "cell_type": "code",
   "execution_count": 249,
   "metadata": {},
   "outputs": [],
   "source": [
    "# optimizer = tf.keras.optimizers.Adam()\n",
    "loss_object = keras.losses.SparseCategoricalCrossentropy(from_logits=True, reduction ='none')\n",
    "train_accuracy = keras.metrics.SparseCategoricalAccuracy(name='accuracy')\n",
    "###########\n",
    "# real = [1, 3]\n",
    "# pred = [[0.05, 0.9, 0, 0.05], \n",
    "#           [0.1, 0.8, 0.05, 0.05]]\n",
    "###########\n",
    "\n",
    "def loss(real, pred): # real shape = (20, 25), pred shape = (20, 25, 111)\n",
    "    mask = tf.math.logical_not(tf.math.equal(real, 0)) # real 값이 0 이면 True => tf.math.logical_not => False\n",
    "    loss_ = loss_object(real, pred)\n",
    "    mask = tf.cast(mask, dtype=loss_.dtype)\n",
    "    loss_ *= mask\n",
    "    return tf.reduce_mean(loss_)\n",
    "\n",
    "###########################################\n",
    "# real = tf.convert_to_tensor([[2, 1, 0], \n",
    "#                              [1, 0, 0]])\n",
    "# pred = tf.convert_to_tensor([[[0.1, 0.6, 0.3], [0.05, 0.95, 0], [0.1, 0.6, 0.3]],\n",
    "#                              [[0.1, 0.6, 0.3], [0.05, 0.95, 0], [0.1, 0.6, 0.3]]])\n",
    "###########################################\n",
    "\n",
    "# real shape = (20, 25)\n",
    "# pred shape = (20, 25, 111)\n",
    "# def accuracy(real, pred):\n",
    "#     mask = tf.math.logical_not(tf.math.equal(real, 0))\n",
    "#     mask = tf.expand_dims(tf.cast(mask, dtype = pred.dtype), axis = -1) # mask tf.Tensor: shape=(20, 25)\n",
    "#     # mask tf.Tensor: shape=(20, 25, 1)\n",
    "#     pred *= mask\n",
    "#     acc = train_accuracy(real, pred)\n",
    "#     return tf.reduce_mean(acc)"
   ]
  },
  {
   "cell_type": "code",
   "execution_count": 250,
   "metadata": {},
   "outputs": [],
   "source": [
    "## check loss\n",
    "\n",
    "# loss_object = keras.losses.SparseCategoricalCrossentropy(from_logits=True, reduction ='none')\n",
    "# real = tf.convert_to_tensor([[2, 1, 0], \n",
    "#                              [1, 0, 0]])\n",
    "# pred = tf.convert_to_tensor([[[0.1, 0.6, 0.3], [0.05, 0.95, 0], [0.1, 0.6, 0.3]],\n",
    "#                              [[0.1, 0.6, 0.3], [0.05, 0.95, 0], [0.1, 0.6, 0.3]]])\n",
    "\n",
    "\n",
    "# mask = tf.math.logical_not(tf.math.equal(real, 0)) # real 값이 0 이면 True => tf.math.logical_not => False\n",
    "# print(mask)\n",
    "# loss = loss_object(real, pred)\n",
    "# print(loss)\n",
    "# mask = tf.cast(mask, dtype=loss.dtype)\n",
    "# loss *= mask\n",
    "# print(\"loss *= mask\", loss)\n",
    "# tf.reduce_mean(loss)"
   ]
  },
  {
   "cell_type": "markdown",
   "metadata": {},
   "source": [
    "## seq2seq 모델"
   ]
  },
  {
   "cell_type": "code",
   "execution_count": 251,
   "metadata": {},
   "outputs": [],
   "source": [
    "# MODEL_NAME = 'seq2seq_kor'\n",
    "# BATCH_SIZE = 2\n",
    "# MAX_SEQUENCE = 25\n",
    "# EPOCH = 30\n",
    "# UNITS = 1024\n",
    "# EMBEDDING_DIM = 256\n",
    "# VALIDATION_SPLIT = 0.1\n",
    "# vocab_size = 111 # ['<PAD>\\n', '<SOS>\\n', '<END>\\n', ... \n",
    "# history = model.fit([index_inputs, index_outputs], index_targets,\n",
    "#                     batch_size=BATCH_SIZE, epochs=EPOCH,\n",
    "#                     validation_split=VALIDATION_SPLIT, callbacks=[earlystop_callback, cp_callback])\n",
    "\n",
    "class seq2seq(keras.Model):\n",
    "    def __init__(self, vocab_size, embedding_dim, enc_units, dec_units, \n",
    "                 batch_sz, end_token_idx = 2):\n",
    "        super(seq2seq, self).__init__()\n",
    "        self.end_token_idx = end_token_idx\n",
    "        self.encoder = Encoder(vocab_size, embedding_dim, enc_units, batch_sz)\n",
    "        self.decoder = Decoder(vocab_size, embedding_dim, dec_units, batch_sz)\n",
    "        \n",
    "    def call(self, x):\n",
    "        inp, tar = x # [index_inputs, index_outputs]\n",
    "        \n",
    "        end_hidden = self.encoder.initialize_hidden_state(inp) # 20 x 25 (sentence x MAX_SEQUENCE)\n",
    "        # end_hidden =  zeros (20, 1024 (enc_units)) \n",
    "        enc_hidden = self.encoder(inp, end_hidden)  # enc_state (20, 1024) only last(hidden) state\n",
    "        dec_hidden = enc_hidden\n",
    "\n",
    "        predict_tokens = list()\n",
    "        for t in range(0, tar.shape[1]): # tar.shape = (20, 25 (MAX_LENGTH))\n",
    "            dec_input = tf.dtypes.cast(tf.expand_dims(tar[:, t], 1), tf.float32) # tar[:, t].shape = (20,  )\n",
    "            # dec_input shape = (20, 1)\n",
    "            predictions, dec_hidden, _ = self.decoder(dec_input, dec_hidden)\n",
    "            # predictions shape = (20, 111), dec_hidden = (20, 1024)\n",
    "            predict_tokens.append(tf.dtypes.cast(predictions, tf.float32))\n",
    "            # predict_tokens shape = (25, 20, 111)\n",
    "\n",
    "        predicted = tf.stack(predict_tokens, axis=1) #   \n",
    "        return predicted # tf.Tensor: shape=(20, 25, 111)\n",
    "        \n",
    "    def inference(self, x):\n",
    "        inp = x\n",
    "       \n",
    "        enc_hidden_init = self.encoder.initialize_hidden_state(inp)\n",
    "        # enc_hidden_init size = (, 1024)\n",
    "        enc_hidden = self.encoder(inp, enc_hidden_init) \n",
    "        dec_hidden = enc_hidden\n",
    "        dec_input = tf.expand_dims([char2idx[std_index]], 1)\n",
    "        \n",
    "        predict_tokens =  list()\n",
    "        for t in range(0, MAX_SEQUENCE):\n",
    "            predictions, dec_hidden, _ = self.decoder(dec_input, dec_hidden)\n",
    "            predict_token = tf.argmax(predictions[0]) # predictions shape =  (1, 111)\n",
    "            \n",
    "            if predict_token == self.end_token_idx:\n",
    "                break\n",
    "\n",
    "            predict_tokens.append(predict_token)\n",
    "            dec_input = tf.dtypes.cast(tf.expand_dims([predict_token], 0), tf.float32)\n",
    "            \n",
    "        return tf.stack(predict_tokens, axis=0).numpy()\n",
    "        "
   ]
  },
  {
   "cell_type": "code",
   "execution_count": 252,
   "metadata": {},
   "outputs": [],
   "source": [
    "# decoder check\n",
    "# x_tokens = list()\n",
    "# for i in range(2):\n",
    "#     dec_input = tf.dtypes.cast(tf.expand_dims(index_outputs[:, i], 1), tf.float32)\n",
    "#     dec_hidden =  enc_hidden\n",
    "#     # print(dec_input.shape) # (20, 1)\n",
    "\n",
    "#     decoder = Decoder(vocab_size, EMBEDDING_DIM, UNITS, BATCH_SIZE)\n",
    "#     x, stats, output = decoder(dec_input, dec_hidden)\n",
    "#     x_tokens.append(tf.dtypes.cast(x, tf.float32))\n",
    "\n",
    "# print('x =', x.shape)\n",
    "# print('x_tokens =', tf.convert_to_tensor(x_tokens).shape)\n",
    "# print('stats =', stats.shape)\n",
    "# print('output =', output.shape)\n",
    "# predicted = tf.stack(x_tokens, axis=1)\n",
    "# predicted.shape"
   ]
  },
  {
   "cell_type": "code",
   "execution_count": 253,
   "metadata": {},
   "outputs": [],
   "source": [
    "model = seq2seq(vocab_size, EMBEDDING_DIM, UNITS, UNITS, BATCH_SIZE, char2idx[end_index])\n",
    "model.compile(loss = loss, optimizer=keras.optimizers.Adam(1e-3))"
   ]
  },
  {
   "cell_type": "code",
   "execution_count": 254,
   "metadata": {},
   "outputs": [
    {
     "name": "stdout",
     "output_type": "stream",
     "text": [
      "Epoch 1/30\n"
     ]
    },
    {
     "name": "stdout",
     "output_type": "stream",
     "text": [
      "9/9 [==============================] - ETA: 0s - loss: 0.9040\n",
      "Epoch 1: val_loss improved from inf to 0.68762, saving model to ./data_out/seq2seq_kor/weights.h5\n",
      "9/9 [==============================] - 26s 718ms/step - loss: 0.9040 - val_loss: 0.6876\n",
      "Epoch 2/30\n",
      "8/9 [=========================>....] - ETA: 0s - loss: 0.7506\n",
      "Epoch 2: val_loss improved from 0.68762 to 0.55677, saving model to ./data_out/seq2seq_kor/weights.h5\n",
      "9/9 [==============================] - 1s 68ms/step - loss: 0.7358 - val_loss: 0.5568\n",
      "Epoch 3/30\n",
      "9/9 [==============================] - ETA: 0s - loss: 0.6395\n",
      "Epoch 3: val_loss improved from 0.55677 to 0.55671, saving model to ./data_out/seq2seq_kor/weights.h5\n",
      "9/9 [==============================] - 1s 68ms/step - loss: 0.6395 - val_loss: 0.5567\n",
      "Epoch 4/30\n",
      "9/9 [==============================] - ETA: 0s - loss: 0.5882\n",
      "Epoch 4: val_loss improved from 0.55671 to 0.49258, saving model to ./data_out/seq2seq_kor/weights.h5\n",
      "9/9 [==============================] - 1s 66ms/step - loss: 0.5882 - val_loss: 0.4926\n",
      "Epoch 5/30\n",
      "9/9 [==============================] - ETA: 0s - loss: 0.5276\n",
      "Epoch 5: val_loss improved from 0.49258 to 0.46079, saving model to ./data_out/seq2seq_kor/weights.h5\n",
      "9/9 [==============================] - 1s 68ms/step - loss: 0.5276 - val_loss: 0.4608\n",
      "Epoch 6/30\n",
      "8/9 [=========================>....] - ETA: 0s - loss: 0.4794\n",
      "Epoch 6: val_loss improved from 0.46079 to 0.40967, saving model to ./data_out/seq2seq_kor/weights.h5\n",
      "9/9 [==============================] - 1s 67ms/step - loss: 0.4848 - val_loss: 0.4097\n",
      "Epoch 7/30\n",
      "8/9 [=========================>....] - ETA: 0s - loss: 0.4318\n",
      "Epoch 7: val_loss improved from 0.40967 to 0.36254, saving model to ./data_out/seq2seq_kor/weights.h5\n",
      "9/9 [==============================] - 1s 67ms/step - loss: 0.4276 - val_loss: 0.3625\n",
      "Epoch 8/30\n",
      "9/9 [==============================] - ETA: 0s - loss: 0.3619\n",
      "Epoch 8: val_loss improved from 0.36254 to 0.30929, saving model to ./data_out/seq2seq_kor/weights.h5\n",
      "9/9 [==============================] - 1s 67ms/step - loss: 0.3619 - val_loss: 0.3093\n",
      "Epoch 9/30\n",
      "9/9 [==============================] - ETA: 0s - loss: 0.3327\n",
      "Epoch 9: val_loss improved from 0.30929 to 0.29100, saving model to ./data_out/seq2seq_kor/weights.h5\n",
      "9/9 [==============================] - 1s 67ms/step - loss: 0.3327 - val_loss: 0.2910\n",
      "Epoch 10/30\n",
      "9/9 [==============================] - ETA: 0s - loss: 0.2679\n",
      "Epoch 10: val_loss improved from 0.29100 to 0.25634, saving model to ./data_out/seq2seq_kor/weights.h5\n",
      "9/9 [==============================] - 1s 66ms/step - loss: 0.2679 - val_loss: 0.2563\n",
      "Epoch 11/30\n",
      "9/9 [==============================] - ETA: 0s - loss: 0.2278\n",
      "Epoch 11: val_loss improved from 0.25634 to 0.25372, saving model to ./data_out/seq2seq_kor/weights.h5\n",
      "9/9 [==============================] - 1s 68ms/step - loss: 0.2278 - val_loss: 0.2537\n",
      "Epoch 12/30\n",
      "9/9 [==============================] - ETA: 0s - loss: 0.1864\n",
      "Epoch 12: val_loss improved from 0.25372 to 0.15427, saving model to ./data_out/seq2seq_kor/weights.h5\n",
      "9/9 [==============================] - 1s 67ms/step - loss: 0.1864 - val_loss: 0.1543\n",
      "Epoch 13/30\n",
      "9/9 [==============================] - ETA: 0s - loss: 0.1648\n",
      "Epoch 13: val_loss improved from 0.15427 to 0.14835, saving model to ./data_out/seq2seq_kor/weights.h5\n",
      "9/9 [==============================] - 1s 73ms/step - loss: 0.1648 - val_loss: 0.1484\n",
      "Epoch 14/30\n",
      "8/9 [=========================>....] - ETA: 0s - loss: 0.1446\n",
      "Epoch 14: val_loss improved from 0.14835 to 0.13163, saving model to ./data_out/seq2seq_kor/weights.h5\n",
      "9/9 [==============================] - 1s 68ms/step - loss: 0.1466 - val_loss: 0.1316\n",
      "Epoch 15/30\n",
      "9/9 [==============================] - ETA: 0s - loss: 0.1352\n",
      "Epoch 15: val_loss did not improve from 0.13163\n",
      "9/9 [==============================] - 0s 55ms/step - loss: 0.1352 - val_loss: 0.1321\n",
      "Epoch 16/30\n",
      "8/9 [=========================>....] - ETA: 0s - loss: 0.1242\n",
      "Epoch 16: val_loss improved from 0.13163 to 0.13055, saving model to ./data_out/seq2seq_kor/weights.h5\n",
      "9/9 [==============================] - 1s 66ms/step - loss: 0.1268 - val_loss: 0.1305\n",
      "Epoch 17/30\n",
      "9/9 [==============================] - ETA: 0s - loss: 0.1279\n",
      "Epoch 17: val_loss improved from 0.13055 to 0.11006, saving model to ./data_out/seq2seq_kor/weights.h5\n",
      "9/9 [==============================] - 1s 67ms/step - loss: 0.1279 - val_loss: 0.1101\n",
      "Epoch 18/30\n",
      "9/9 [==============================] - ETA: 0s - loss: 0.1204\n",
      "Epoch 18: val_loss did not improve from 0.11006\n",
      "9/9 [==============================] - 1s 56ms/step - loss: 0.1204 - val_loss: 0.1240\n",
      "Epoch 19/30\n",
      "9/9 [==============================] - ETA: 0s - loss: 0.1224\n",
      "Epoch 19: val_loss did not improve from 0.11006\n",
      "9/9 [==============================] - 0s 54ms/step - loss: 0.1224 - val_loss: 0.1223\n",
      "Epoch 20/30\n",
      "9/9 [==============================] - ETA: 0s - loss: 0.1206\n",
      "Epoch 20: val_loss did not improve from 0.11006\n",
      "9/9 [==============================] - 0s 54ms/step - loss: 0.1206 - val_loss: 0.1215\n",
      "Epoch 21/30\n",
      "9/9 [==============================] - ETA: 0s - loss: 0.1200\n",
      "Epoch 21: val_loss did not improve from 0.11006\n",
      "9/9 [==============================] - 0s 55ms/step - loss: 0.1200 - val_loss: 0.1199\n",
      "Epoch 22/30\n",
      "9/9 [==============================] - ETA: 0s - loss: 0.1219\n",
      "Epoch 22: val_loss did not improve from 0.11006\n",
      "9/9 [==============================] - 0s 55ms/step - loss: 0.1219 - val_loss: 0.1223\n",
      "Epoch 23/30\n",
      "9/9 [==============================] - ETA: 0s - loss: 0.1164\n",
      "Epoch 23: val_loss did not improve from 0.11006\n",
      "9/9 [==============================] - 0s 54ms/step - loss: 0.1164 - val_loss: 0.1192\n",
      "Epoch 24/30\n",
      "9/9 [==============================] - ETA: 0s - loss: 0.1221\n",
      "Epoch 24: val_loss did not improve from 0.11006\n",
      "9/9 [==============================] - 0s 54ms/step - loss: 0.1221 - val_loss: 0.1129\n",
      "Epoch 25/30\n",
      "9/9 [==============================] - ETA: 0s - loss: 0.1192\n",
      "Epoch 25: val_loss did not improve from 0.11006\n",
      "9/9 [==============================] - 0s 53ms/step - loss: 0.1192 - val_loss: 0.1225\n",
      "Epoch 26/30\n",
      "9/9 [==============================] - ETA: 0s - loss: 0.1210\n",
      "Epoch 26: val_loss did not improve from 0.11006\n",
      "9/9 [==============================] - 0s 54ms/step - loss: 0.1210 - val_loss: 0.1208\n",
      "Epoch 27/30\n",
      "9/9 [==============================] - ETA: 0s - loss: 0.1199\n",
      "Epoch 27: val_loss did not improve from 0.11006\n",
      "9/9 [==============================] - 0s 54ms/step - loss: 0.1199 - val_loss: 0.1169\n"
     ]
    }
   ],
   "source": [
    "PATH = DATA_OUT_PATH + MODEL_NAME\n",
    "if not(os.path.isdir(PATH)):\n",
    "        os.makedirs(os.path.join(PATH))\n",
    "        \n",
    "checkpoint_path = DATA_OUT_PATH + MODEL_NAME + '/weights.h5'\n",
    "\n",
    "cp_callback = keras.callbacks.ModelCheckpoint(\n",
    "    checkpoint_path, monitor='val_loss', verbose=1, save_best_only=True, save_weights_only=True)\n",
    "earlystop_callback = keras.callbacks.EarlyStopping(monitor='val_loss', min_delta=0.01, patience=10)\n",
    "history = model.fit([index_inputs, index_outputs], index_targets,\n",
    "                    batch_size=BATCH_SIZE, epochs=EPOCH,\n",
    "                    validation_split=VALIDATION_SPLIT, \n",
    "                    callbacks=[earlystop_callback, cp_callback])"
   ]
  },
  {
   "cell_type": "code",
   "execution_count": 255,
   "metadata": {},
   "outputs": [],
   "source": [
    "def plot_graphs(history, string):\n",
    "    plt.plot(history.history[string])\n",
    "    plt.plot(history.history['val_'+ string], '')\n",
    "    plt.xlabel(\"Epochs\")\n",
    "    plt.ylabel(string)\n",
    "    plt.ylim(0, 1)\n",
    "    plt.legend([string, 'val_'+string])\n",
    "    plt.show()"
   ]
  },
  {
   "cell_type": "code",
   "execution_count": 256,
   "metadata": {},
   "outputs": [
    {
     "data": {
      "image/png": "[encoded data removed]",
      "text/plain": [
       "<Figure size 640x480 with 1 Axes>"
      ]
     },
     "metadata": {},
     "output_type": "display_data"
    }
   ],
   "source": [
    "plot_graphs(history, 'loss')"
   ]
  },
  {
   "cell_type": "markdown",
   "metadata": {},
   "source": [
    "## 결과 확인"
   ]
  },
  {
   "cell_type": "code",
   "execution_count": 257,
   "metadata": {},
   "outputs": [],
   "source": [
    "SAVE_FILE_NM = \"weights.h5\"\n",
    "model.load_weights(os.path.join(DATA_OUT_PATH, MODEL_NAME, SAVE_FILE_NM))"
   ]
  },
  {
   "cell_type": "code",
   "execution_count": 258,
   "metadata": {},
   "outputs": [],
   "source": [
    "FILTERS = \"([~.,!?\\\"':;)(])\"\n",
    "CHANGE_FILTER = re.compile(FILTERS)\n",
    "\n",
    "\n",
    "PAD = \"<PAD>\"\n",
    "STD = \"<SOS>\"\n",
    "END = \"<END>\"\n",
    "UNK = \"<UNK>\"\n",
    "\n",
    "\n",
    "def prepro_like_morphlized(data):\n",
    "    morph_analyzer = Okt()\n",
    "    result_data = list()\n",
    "    for seq in tqdm(data):\n",
    "        morphlized_seq = \" \".join(morph_analyzer.morphs(seq.replace(' ', '')))\n",
    "        result_data.append(morphlized_seq)\n",
    "\n",
    "    return result_data\n",
    "\n",
    "def enc_processing(value, dictionary, tokenize_as_morph=False):\n",
    "    sequences_input_index = []\n",
    "    sequences_length = []\n",
    "\n",
    "    if tokenize_as_morph:\n",
    "        value = prepro_like_morphlized(value)\n",
    "\n",
    "    for sequence in value:\n",
    "        sequence = re.sub(CHANGE_FILTER, \"\", sequence)\n",
    "\n",
    "        sequence_index = []\n",
    "        for word in sequence.split():\n",
    "            if dictionary.get(word) is not None:\n",
    "                sequence_index.extend([dictionary[word]])\n",
    "            else:\n",
    "                sequence_index.extend([dictionary[UNK]])\n",
    "\n",
    "        if len(sequence_index) > MAX_SEQUENCE:\n",
    "            sequence_index = sequence_index[:MAX_SEQUENCE]\n",
    "\n",
    "        sequences_length.append(len(sequence_index))\n",
    "        sequence_index += (MAX_SEQUENCE - len(sequence_index)) * [dictionary[PAD]]\n",
    "        sequences_input_index.append(sequence_index)\n",
    "\n",
    "    return np.asarray(sequences_input_index), sequences_length"
   ]
  },
  {
   "cell_type": "code",
   "execution_count": 261,
   "metadata": {},
   "outputs": [
    {
     "name": "stdout",
     "output_type": "stream",
     "text": [
      "[[ 6 32 11 79 73 20  0  0  0  0  0  0  0  0  0  0  0  0  0  0  0  0  0  0\n",
      "   0]]\n",
      "[99 41  9 49 19]\n",
      "빨리 집에 돌아가서 끄고 나오세요\n"
     ]
    }
   ],
   "source": [
    "# query = \"남자친구 승진 선물로 뭐가 좋을까?\"\n",
    "\n",
    "query = \"평소에 필요했던 게 좋을 것 같아요\"\n",
    "\n",
    "\n",
    "test_index_inputs, _ = enc_processing([query], char2idx) \n",
    "print(test_index_inputs)\n",
    "\n",
    "predict_tokens = model.inference(test_index_inputs)\n",
    "print(predict_tokens)\n",
    "\n",
    "print(' '.join([idx2char[str(t)] for t in predict_tokens]))"
   ]
  }
 ],
 "metadata": {
  "kernelspec": {
   "display_name": "mytf",
   "language": "python",
   "name": "python3"
  },
  "language_info": {
   "codemirror_mode": {
    "name": "ipython",
    "version": 3
   },
   "file_extension": ".py",
   "mimetype": "text/x-python",
   "name": "python",
   "nbconvert_exporter": "python",
   "pygments_lexer": "ipython3",
   "version": "3.10.13"
  }
 },
 "nbformat": 4,
 "nbformat_minor": 2
}
