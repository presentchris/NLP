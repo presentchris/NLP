{
  "nbformat": 4,
  "nbformat_minor": 0,
  "metadata": {
    "colab": {
      "provenance": []
    },
    "kernelspec": {
      "name": "python3",
      "display_name": "Python 3"
    },
    "language_info": {
      "name": "python"
    }
  },
  "cells": [
    {
      "cell_type": "code",
      "source": [
        "# seq2seq, RNN, transformer 계열이 있음\n",
        "\n",
        "# seq2seq"
      ],
      "metadata": {
        "id": "H2zgNVqwb9bM"
      },
      "execution_count": null,
      "outputs": []
    },
    {
      "cell_type": "code",
      "execution_count": null,
      "metadata": {
        "colab": {
          "base_uri": "https://localhost:8080/"
        },
        "id": "BVZN8QZyVN5p",
        "outputId": "b83a3b2b-b6d3-4a92-dcfb-36b9fe06db31"
      },
      "outputs": [
        {
          "output_type": "stream",
          "name": "stdout",
          "text": [
            "Requirement already satisfied: konlpy in /usr/local/lib/python3.10/dist-packages (0.6.0)\n",
            "Requirement already satisfied: JPype1>=0.7.0 in /usr/local/lib/python3.10/dist-packages (from konlpy) (1.4.1)\n",
            "Requirement already satisfied: lxml>=4.1.0 in /usr/local/lib/python3.10/dist-packages (from konlpy) (4.9.3)\n",
            "Requirement already satisfied: numpy>=1.6 in /usr/local/lib/python3.10/dist-packages (from konlpy) (1.23.5)\n",
            "Requirement already satisfied: packaging in /usr/local/lib/python3.10/dist-packages (from JPype1>=0.7.0->konlpy) (23.2)\n",
            "Requirement already satisfied: Pillow in /usr/local/lib/python3.10/dist-packages (9.4.0)\n"
          ]
        }
      ],
      "source": [
        "# 한글 챗봇 자료\n",
        "# https://github.com/songys/Chatbot_data\n",
        "\n",
        "# 형태소 분석기\n",
        "!pip install konlpy\n",
        "!pip install Pillow"
      ]
    },
    {
      "cell_type": "code",
      "source": [
        "from google.colab import drive\n",
        "import os\n",
        "import re\n",
        "import json\n",
        "import numpy as np\n",
        "import pandas as pd\n",
        "from konlpy.tag import Okt\n",
        "from PIL import Image"
      ],
      "metadata": {
        "id": "X35aDltlexyp"
      },
      "execution_count": null,
      "outputs": []
    },
    {
      "cell_type": "code",
      "source": [
        "\n",
        "# 구글 드라이브 마운트\n",
        "drive.mount('/content/drive')\n",
        "\n",
        "# 작업 디렉토리 변경\n",
        "os.chdir('/content/drive/MyDrive/Chatbot_data-master')\n",
        "\n",
        "# CSV 파일 읽기 예시\n",
        "import pandas as pd\n",
        "\n",
        "# CSV 파일 경로 지정\n",
        "csv_file_path = 'ChatbotData.csv'\n",
        "\n",
        "# CSV 파일 읽기\n",
        "df = pd.read_csv(csv_file_path)\n",
        "\n",
        "# 데이터프레임 확인\n",
        "print(df.head())\n",
        "\n"
      ],
      "metadata": {
        "id": "E6Cfl929b6LI",
        "colab": {
          "base_uri": "https://localhost:8080/"
        },
        "outputId": "6ec3d2e8-bc4c-477b-ccda-c764c21d8b18"
      },
      "execution_count": null,
      "outputs": [
        {
          "output_type": "stream",
          "name": "stdout",
          "text": [
            "Drive already mounted at /content/drive; to attempt to forcibly remount, call drive.mount(\"/content/drive\", force_remount=True).\n",
            "                 Q            A  label\n",
            "0           12시 땡!   하루가 또 가네요.      0\n",
            "1      1지망 학교 떨어졌어    위로해 드립니다.      0\n",
            "2     3박4일 놀러가고 싶다  여행은 언제나 좋죠.      0\n",
            "3  3박4일 정도 놀러가고 싶다  여행은 언제나 좋죠.      0\n",
            "4          PPL 심하네   눈살이 찌푸려지죠.      0\n"
          ]
        }
      ]
    },
    {
      "cell_type": "code",
      "source": [
        "from PIL import Image\n",
        "\n",
        "# PNG 파일 경로 지정\n",
        "data_file_path = 'data.png'  # 실제 파일 이름으로 변경해야 합니다.\n",
        "gemimage_file_path = 'gemimage.png'\n",
        "\n",
        "# PNG 파일 열기\n",
        "data_image = Image.open(data_file_path)\n",
        "gemimage_image = Image.open(gemimage_file_path)\n",
        "\n",
        "# 이미지 정보 출력\n",
        "print(f\"Data 이미지 크기: {data_image.size}\")\n",
        "print(f\"Data 이미지 모드: {data_image.mode}\")\n",
        "\n",
        "print(f\"Gemimage 이미지 크기: {gemimage_image.size}\")\n",
        "print(f\"Gemimage 이미지 모드: {gemimage_image.mode}\")\n",
        "\n",
        "# 이미지 표시\n",
        "data_image.show()\n",
        "gemimage_image.show()\n",
        "\n"
      ],
      "metadata": {
        "colab": {
          "base_uri": "https://localhost:8080/"
        },
        "id": "_9KzXhOjhg0A",
        "outputId": "53cb9c29-de94-4a93-a06f-b1e4db4841d8"
      },
      "execution_count": null,
      "outputs": [
        {
          "output_type": "stream",
          "name": "stdout",
          "text": [
            "Data 이미지 크기: (1452, 472)\n",
            "Data 이미지 모드: RGBA\n",
            "Gemimage 이미지 크기: (972, 762)\n",
            "Gemimage 이미지 모드: RGBA\n"
          ]
        }
      ]
    },
    {
      "cell_type": "code",
      "source": [
        "from google.colab import drive\n",
        "import os\n",
        "import pandas as pd\n",
        "\n",
        "# Google Drive 마운트\n",
        "drive.mount('/content/drive')\n",
        "\n",
        "# 작업 디렉토리 변경\n",
        "os.chdir('/content/drive/MyDrive/Chatbot_data-master/data_in')\n",
        "\n",
        "# 파일 경로 설정\n",
        "PATH = '/content/drive/MyDrive/Chatbot_data-master/data_in/ChatBotData.csv_short'\n",
        "VOCAB_PATH = '/content/drive/MyDrive/Chatbot_data-master/data_in/vocabulary.txt'\n",
        "\n",
        "# CSV 파일 읽기\n",
        "df = pd.read_csv(PATH)\n",
        "\n",
        "# 텍스트 파일 읽기\n",
        "with open(VOCAB_PATH, 'r') as file:\n",
        "    vocabulary_content = file.read()\n",
        "\n",
        "# # 데이터 확인\n",
        "print(df.head())\n",
        "print(\"Vocabulary Content:\")\n",
        "print(vocabulary_content)\n"
      ],
      "metadata": {
        "colab": {
          "base_uri": "https://localhost:8080/"
        },
        "id": "7EAHRYvUh7hK",
        "outputId": "439e2f82-f015-45b7-a1b3-afec66b6d0bb"
      },
      "execution_count": null,
      "outputs": [
        {
          "output_type": "stream",
          "name": "stdout",
          "text": [
            "Drive already mounted at /content/drive; to attempt to forcibly remount, call drive.mount(\"/content/drive\", force_remount=True).\n",
            "             Q               A  label\n",
            "0       가끔 궁금해   그 사람도 그럴 거예요.      0\n",
            "1  가끔 뭐하는지 궁금해   그 사람도 그럴 거예요.      0\n",
            "2  가끔은 혼자인게 좋다       혼자를 즐기세요.      0\n",
            "3    가난한 자의 설움  돈은 다시 들어올 거예요.      0\n",
            "4   가만 있어도 땀난다       땀을 식혀주세요.      0\n",
            "Vocabulary Content:\n",
            "<PAD>\n",
            "<SOS>\n",
            "<END>\n",
            "<UNK>\n",
            "뭐가\n",
            "운동을\n",
            "갔어\n",
            "켜고\n",
            "그럴\n",
            "남자친구가\n",
            "나왔다\n",
            "같아요\n",
            "해\n",
            "나온거\n",
            "안\n",
            "것\n",
            "구하셨나요\n",
            "비싼데\n",
            "가만\n",
            "마세요\n",
            "감기\n",
            "결단은\n",
            "거짓말\n",
            "새출발\n",
            "망함\n",
            "데려가고\n",
            "따뜻하게\n",
            "즐기세요\n",
            "뭘\n",
            "집에\n",
            "남자친구\n",
            "좋다\n",
            "혼자를\n",
            "들어올\n",
            "필요한\n",
            "나라를\n",
            "선물로\n",
            "잘생겼어\n",
            "땀난다\n",
            "게\n",
            "혼자인게\n",
            "뭐하는지\n",
            "어서\n",
            "보인다\n",
            "거예요\n",
            "더\n",
            "사세요\n",
            "나갔어\n",
            "승진\n",
            "또\n",
            "마음을\n",
            "가상화폐\n",
            "오늘\n",
            "그\n",
            "땀을\n",
            "자의\n",
            "줄까\n",
            "같아\n",
            "나오세요\n",
            "싶어\n",
            "운동만\n",
            "좋을\n",
            "절약해봐요\n",
            "빠를수록\n",
            "좋아요\n",
            "나\n",
            "교회\n",
            "쫄딱\n",
            "끄고\n",
            "가스비\n",
            "많이\n",
            "사람도\n",
            "평소에\n",
            "해보세요\n",
            "있어도\n",
            "걸리겠어\n",
            "생각해보세요\n",
            "궁금해\n",
            "집착하지\n",
            "훈훈해\n",
            "운동\n",
            "좀\n",
            "너무\n",
            "잊고\n",
            "설득해보세요\n",
            "질린다\n",
            "다시\n",
            "함께\n",
            "돌아가서\n",
            "바빠\n",
            "가난한\n",
            "켜놓고\n",
            "좋을까?\n",
            "가스불\n",
            "생일인데\n",
            "다음\n",
            "식혀주세요\n",
            "열\n",
            "따라\n",
            "믿어줘\n",
            "필요했던\n",
            "전생에\n",
            "가끔\n",
            "적당히\n",
            "돈은\n",
            "빨리\n",
            "달에는\n",
            "때까지\n",
            "가끔은\n",
            "하세요\n",
            "설움\n",
            "\n"
          ]
        }
      ]
    },
    {
      "cell_type": "code",
      "source": [
        "def load_data(PATH):\n",
        "  data_df = pd.read_csv(PATH, header=0, sep= ',')\n",
        "  question, answer = list(data_df['Q']), list(data_df['A'])\n",
        "  return question, answer"
      ],
      "metadata": {
        "id": "X6oln2iMkkwe"
      },
      "execution_count": null,
      "outputs": []
    },
    {
      "cell_type": "code",
      "source": [
        "inputs, outputs = load_data(PATH)\n",
        "\n",
        "print('inputs: \\n', inputs)\n",
        "print('outputs: \\n', outputs)\n",
        "\n",
        "data = inputs + outputs\n",
        "\n",
        "print('data: \\n', data)"
      ],
      "metadata": {
        "colab": {
          "base_uri": "https://localhost:8080/"
        },
        "id": "8Nrv9A8ElJUU",
        "outputId": "a77ed774-b601-47c6-9b8e-84de8464f918"
      },
      "execution_count": null,
      "outputs": [
        {
          "output_type": "stream",
          "name": "stdout",
          "text": [
            "inputs: \n",
            " ['가끔 궁금해', '가끔 뭐하는지 궁금해', '가끔은 혼자인게 좋다', '가난한 자의 설움', '가만 있어도 땀난다', '가상화폐 쫄딱 망함', '가스불 켜고 나갔어', '가스불 켜놓고 나온거 같아', '가스비 너무 많이 나왔다.', '가스비 비싼데 감기 걸리겠어', '남자친구 교회 데려가고 싶어', '남자친구 또 운동 갔어', '남자친구 생일인데 뭘 줄까', '남자친구 승진 선물로 뭐가 좋을까?', '남자친구 오늘 따라 훈훈해 보인다', '남자친구 오늘 좀 질린다.', '남자친구가 나 안 믿어줘', '남자친구가 너무 바빠', '남자친구가 너무 운동만 해', '남자친구가 너무 잘생겼어']\n",
            "outputs: \n",
            " ['그 사람도 그럴 거예요.', '그 사람도 그럴 거예요.', '혼자를 즐기세요.', '돈은 다시 들어올 거예요.', '땀을 식혀주세요.', '어서 잊고 새출발 하세요.', '빨리 집에 돌아가서 끄고 나오세요.', '빨리 집에 돌아가서 끄고 나오세요.', '다음 달에는 더 절약해봐요.', '따뜻하게 사세요!', '마음을 열 때까지 설득해보세요.', '운동을 함께 해보세요.', '평소에 필요한 것 생각해보세요.', '평소에 필요했던 게 좋을 것 같아요.', '전생에 나라를 구하셨나요.', '결단은 빠를수록 좋아요.', '거짓말 적당히 하세요.', '너무 집착하지 마세요.', '운동을 함께 해보세요.', '전생에 나라를 구하셨나요.']\n",
            "data: \n",
            " ['가끔 궁금해', '가끔 뭐하는지 궁금해', '가끔은 혼자인게 좋다', '가난한 자의 설움', '가만 있어도 땀난다', '가상화폐 쫄딱 망함', '가스불 켜고 나갔어', '가스불 켜놓고 나온거 같아', '가스비 너무 많이 나왔다.', '가스비 비싼데 감기 걸리겠어', '남자친구 교회 데려가고 싶어', '남자친구 또 운동 갔어', '남자친구 생일인데 뭘 줄까', '남자친구 승진 선물로 뭐가 좋을까?', '남자친구 오늘 따라 훈훈해 보인다', '남자친구 오늘 좀 질린다.', '남자친구가 나 안 믿어줘', '남자친구가 너무 바빠', '남자친구가 너무 운동만 해', '남자친구가 너무 잘생겼어', '그 사람도 그럴 거예요.', '그 사람도 그럴 거예요.', '혼자를 즐기세요.', '돈은 다시 들어올 거예요.', '땀을 식혀주세요.', '어서 잊고 새출발 하세요.', '빨리 집에 돌아가서 끄고 나오세요.', '빨리 집에 돌아가서 끄고 나오세요.', '다음 달에는 더 절약해봐요.', '따뜻하게 사세요!', '마음을 열 때까지 설득해보세요.', '운동을 함께 해보세요.', '평소에 필요한 것 생각해보세요.', '평소에 필요했던 게 좋을 것 같아요.', '전생에 나라를 구하셨나요.', '결단은 빠를수록 좋아요.', '거짓말 적당히 하세요.', '너무 집착하지 마세요.', '운동을 함께 해보세요.', '전생에 나라를 구하셨나요.']\n"
          ]
        }
      ]
    },
    {
      "cell_type": "code",
      "source": [
        "data_df = pd.read_csv(PATH,header=0,sep=',')\n",
        "data_df.head()\n",
        "inputs = data_df['Q']\n",
        "outputs = data_df['A']\n",
        "\n",
        "print(inputs)\n",
        "print(outputs)"
      ],
      "metadata": {
        "colab": {
          "base_uri": "https://localhost:8080/"
        },
        "id": "I7CmbsxCjbSe",
        "outputId": "2debfd13-94a1-4e78-f4b7-1ca79ef44c42"
      },
      "execution_count": null,
      "outputs": [
        {
          "output_type": "stream",
          "name": "stdout",
          "text": [
            "0                  가끔 궁금해\n",
            "1             가끔 뭐하는지 궁금해\n",
            "2             가끔은 혼자인게 좋다\n",
            "3               가난한 자의 설움\n",
            "4              가만 있어도 땀난다\n",
            "5              가상화폐 쫄딱 망함\n",
            "6              가스불 켜고 나갔어\n",
            "7          가스불 켜놓고 나온거 같아\n",
            "8          가스비 너무 많이 나왔다.\n",
            "9         가스비 비싼데 감기 걸리겠어\n",
            "10        남자친구 교회 데려가고 싶어\n",
            "11           남자친구 또 운동 갔어\n",
            "12         남자친구 생일인데 뭘 줄까\n",
            "13    남자친구 승진 선물로 뭐가 좋을까?\n",
            "14     남자친구 오늘 따라 훈훈해 보인다\n",
            "15         남자친구 오늘 좀 질린다.\n",
            "16          남자친구가 나 안 믿어줘\n",
            "17            남자친구가 너무 바빠\n",
            "18         남자친구가 너무 운동만 해\n",
            "19          남자친구가 너무 잘생겼어\n",
            "Name: Q, dtype: object\n",
            "0            그 사람도 그럴 거예요.\n",
            "1            그 사람도 그럴 거예요.\n",
            "2                혼자를 즐기세요.\n",
            "3           돈은 다시 들어올 거예요.\n",
            "4                땀을 식혀주세요.\n",
            "5           어서 잊고 새출발 하세요.\n",
            "6      빨리 집에 돌아가서 끄고 나오세요.\n",
            "7      빨리 집에 돌아가서 끄고 나오세요.\n",
            "8          다음 달에는 더 절약해봐요.\n",
            "9                따뜻하게 사세요!\n",
            "10       마음을 열 때까지 설득해보세요.\n",
            "11            운동을 함께 해보세요.\n",
            "12       평소에 필요한 것 생각해보세요.\n",
            "13    평소에 필요했던 게 좋을 것 같아요.\n",
            "14          전생에 나라를 구하셨나요.\n",
            "15           결단은 빠를수록 좋아요.\n",
            "16            거짓말 적당히 하세요.\n",
            "17            너무 집착하지 마세요.\n",
            "18            운동을 함께 해보세요.\n",
            "19          전생에 나라를 구하셨나요.\n",
            "Name: A, dtype: object\n"
          ]
        }
      ]
    },
    {
      "cell_type": "code",
      "source": [
        "# 정규식\n",
        "sample_text = \"안녕하세요 @#$%^^!. 여러분\"\n",
        "\n",
        "FILTERS = \"[@#$%^^!.]\"\n",
        "CHANGE_FILTER = re.compile(FILTERS)\n",
        "\n",
        "sentence = re.sub(CHANGE_FILTER, \"\", sample_text)\n",
        "print(sentence)\n",
        "\n",
        "words = []\n",
        "for word in sentence.split():\n",
        "  words.append(word)\n",
        "\n",
        "words"
      ],
      "metadata": {
        "id": "b9WRD50ujp3w",
        "colab": {
          "base_uri": "https://localhost:8080/"
        },
        "outputId": "8b6d654f-6cdd-41ea-9f92-0a00284a1242"
      },
      "execution_count": null,
      "outputs": [
        {
          "output_type": "stream",
          "name": "stdout",
          "text": [
            "안녕하세요  여러분\n"
          ]
        },
        {
          "output_type": "execute_result",
          "data": {
            "text/plain": [
              "['안녕하세요', '여러분']"
            ]
          },
          "metadata": {},
          "execution_count": 56
        }
      ]
    },
    {
      "cell_type": "code",
      "source": [
        "FILTERS = \"[@#$%^^!.]\"\n",
        "CHANGE_FILTER = re.compile(FILTERS)\n",
        "\n",
        "def data_tokenizer(data):\n",
        "  words = []\n",
        "  for sentence in data:\n",
        "    sentence = re.sub(CHANGE_FILTER, '', sentence)\n",
        "    for word in sentence.split():\n",
        "      words.append(word)\n",
        "\n",
        "  return words"
      ],
      "metadata": {
        "id": "gSarJF9j-LpB"
      },
      "execution_count": null,
      "outputs": []
    },
    {
      "cell_type": "code",
      "source": [
        "# 워드 사전 만듦\n",
        "\n",
        "word_list = data_tokenizer(data)\n",
        "print(word_list)\n",
        "print(len(word_list))\n",
        "\n",
        "words = list(set(word_list))\n",
        "print(len(words))"
      ],
      "metadata": {
        "colab": {
          "base_uri": "https://localhost:8080/"
        },
        "id": "fyDmX8u4_nsB",
        "outputId": "5e0c32d7-d38d-4107-d2a3-dd2768bd255d"
      },
      "execution_count": null,
      "outputs": [
        {
          "output_type": "stream",
          "name": "stdout",
          "text": [
            "['가끔', '궁금해', '가끔', '뭐하는지', '궁금해', '가끔은', '혼자인게', '좋다', '가난한', '자의', '설움', '가만', '있어도', '땀난다', '가상화폐', '쫄딱', '망함', '가스불', '켜고', '나갔어', '가스불', '켜놓고', '나온거', '같아', '가스비', '너무', '많이', '나왔다', '가스비', '비싼데', '감기', '걸리겠어', '남자친구', '교회', '데려가고', '싶어', '남자친구', '또', '운동', '갔어', '남자친구', '생일인데', '뭘', '줄까', '남자친구', '승진', '선물로', '뭐가', '좋을까?', '남자친구', '오늘', '따라', '훈훈해', '보인다', '남자친구', '오늘', '좀', '질린다', '남자친구가', '나', '안', '믿어줘', '남자친구가', '너무', '바빠', '남자친구가', '너무', '운동만', '해', '남자친구가', '너무', '잘생겼어', '그', '사람도', '그럴', '거예요', '그', '사람도', '그럴', '거예요', '혼자를', '즐기세요', '돈은', '다시', '들어올', '거예요', '땀을', '식혀주세요', '어서', '잊고', '새출발', '하세요', '빨리', '집에', '돌아가서', '끄고', '나오세요', '빨리', '집에', '돌아가서', '끄고', '나오세요', '다음', '달에는', '더', '절약해봐요', '따뜻하게', '사세요', '마음을', '열', '때까지', '설득해보세요', '운동을', '함께', '해보세요', '평소에', '필요한', '것', '생각해보세요', '평소에', '필요했던', '게', '좋을', '것', '같아요', '전생에', '나라를', '구하셨나요', '결단은', '빠를수록', '좋아요', '거짓말', '적당히', '하세요', '너무', '집착하지', '마세요', '운동을', '함께', '해보세요', '전생에', '나라를', '구하셨나요']\n",
            "143\n",
            "107\n"
          ]
        }
      ]
    },
    {
      "cell_type": "code",
      "source": [
        "# 형태소\n",
        "sample_morpheme = \"가끔 뭐하는지 궁금해\";\n",
        "print(sample_morpheme.split())\n",
        "\n",
        "#\n",
        "morph_analyzer = Okt()\n",
        "print(morph_analyzer.morphs(sample_morpheme))"
      ],
      "metadata": {
        "colab": {
          "base_uri": "https://localhost:8080/"
        },
        "id": "-YW8-oxr89cP",
        "outputId": "9615abbe-5fb4-474c-bfbc-0c1672f5656c"
      },
      "execution_count": null,
      "outputs": [
        {
          "output_type": "stream",
          "name": "stdout",
          "text": [
            "['가끔', '뭐하는지', '궁금해']\n",
            "['가끔', '뭐', '하는지', '궁금해']\n"
          ]
        }
      ]
    },
    {
      "cell_type": "code",
      "source": [
        "def prepro_like_morphlized(data):\n",
        "  morph_analyzer = Okt()\n",
        "  result_data = []\n",
        "  for seq in data:\n",
        "    morphlized_seq = \" \".join(morph_analyzer.morphs(seq))\n",
        "    result_data.append(morphlized_seq)\n",
        "  return result_data\n",
        "\n",
        "morphlized_data = prepro_like_morphlized(data)\n",
        "print(morphlized_data)"
      ],
      "metadata": {
        "colab": {
          "base_uri": "https://localhost:8080/"
        },
        "id": "-6HSi2gICLMN",
        "outputId": "6c668247-dfb2-4ae5-fe3d-3afe7d3a52e8"
      },
      "execution_count": null,
      "outputs": [
        {
          "output_type": "stream",
          "name": "stdout",
          "text": [
            "['가끔 궁금해', '가끔 뭐 하는지 궁금해', '가끔 은 혼자 인게 좋다', '가난한 자의 설움', '가만 있어도 땀 난다', '가상 화폐 쫄딱 망함', '가스 불 켜고 나갔어', '가스 불 켜놓고 나온거 같아', '가스 비 너무 많이 나왔다 .', '가스 비 비싼데 감기 걸리겠어', '남자친구 교회 데려가고 싶어', '남자친구 또 운동 갔어', '남자친구 생일 인데 뭘 줄까', '남자친구 승진 선물 로 뭐 가 좋을까 ?', '남자친구 오늘 따라 훈훈해 보인다', '남자친구 오늘 좀 질린다 .', '남자친구 가 나 안 믿어줘', '남자친구 가 너무 바빠', '남자친구 가 너무 운동 만 해', '남자친구 가 너무 잘생겼어', '그 사람 도 그럴 거 예요 .', '그 사람 도 그럴 거 예요 .', '혼자 를 즐기세요 .', '돈 은 다시 들어올 거 예요 .', '땀 을 식혀주세요 .', '어서 잊고 새 출발 하세요 .', '빨리 집 에 돌아가서 끄고 나오세요 .', '빨리 집 에 돌아가서 끄고 나오세요 .', '다음 달 에는 더 절약 해봐요 .', '따뜻하게 사세요 !', '마음 을 열 때 까지 설득 해보세요 .', '운동 을 함께 해보세요 .', '평소 에 필요한 것 생각 해보세요 .', '평소 에 필요했던 게 좋을 것 같아요 .', '전생 에 나라 를 구 하셨나요 .', '결단 은 빠를수록 좋아요 .', '거짓말 적당히 하세요 .', '너무 집착 하지 마세요 .', '운동 을 함께 해보세요 .', '전생 에 나라 를 구 하셨나요 .']\n"
          ]
        }
      ]
    },
    {
      "cell_type": "code",
      "source": [
        "VOCAB_PATH"
      ],
      "metadata": {
        "colab": {
          "base_uri": "https://localhost:8080/"
        },
        "id": "5kiZ5ZskLxWN",
        "outputId": "c9c39684-3829-44fc-b525-33321a21db32"
      },
      "execution_count": null,
      "outputs": [
        {
          "output_type": "execute_result",
          "data": {
            "text/plain": [
              "'/content/drive/MyDrive/Chatbot_data-master/data_in/vocabulary.txt'"
            ],
            "application/vnd.google.colaboratory.intrinsic+json": {
              "type": "string"
            }
          },
          "metadata": {},
          "execution_count": 61
        }
      ]
    },
    {
      "cell_type": "code",
      "source": [
        "# zero padding, start of sequence\n",
        "\n",
        "# token 만들기\n",
        "# padding\n",
        "PAD = \"<PAD>\"\n",
        "# start\n",
        "STD = \"<SOS>\"\n",
        "# end\n",
        "END = \"<END>\"\n",
        "# unknown = 무슨 문장인지 모름\n",
        "UNK = \"<UNK>\"\n",
        "\n",
        "PAD_INDEX = 0\n",
        "STD_INDEX = 1\n",
        "END_INDEX = 2\n",
        "UNK_INDEX = 3\n",
        "\n",
        "MARKER = [PAD, STD,END, UNK]\n",
        "words[:0] = MARKER\n",
        "print(words)\n",
        "\n",
        "with open(VOCAB_PATH, 'w', encoding = 'utf-8') as vocabulary_file:\n",
        "     for word in words:\n",
        "      vocabulary_file.write(word + \"\\n\")\n"
      ],
      "metadata": {
        "colab": {
          "base_uri": "https://localhost:8080/"
        },
        "id": "kpAG_P4jIkzt",
        "outputId": "e5b76739-1160-46cb-891b-775482f63e43"
      },
      "execution_count": null,
      "outputs": [
        {
          "output_type": "stream",
          "name": "stdout",
          "text": [
            "['<PAD>', '<SOS>', '<END>', '<UNK>', '뭐가', '운동을', '갔어', '켜고', '그럴', '남자친구가', '나왔다', '같아요', '해', '나온거', '안', '것', '구하셨나요', '비싼데', '가만', '마세요', '감기', '결단은', '거짓말', '새출발', '망함', '데려가고', '따뜻하게', '즐기세요', '뭘', '집에', '남자친구', '좋다', '혼자를', '들어올', '필요한', '나라를', '선물로', '잘생겼어', '땀난다', '게', '혼자인게', '뭐하는지', '어서', '보인다', '거예요', '더', '사세요', '나갔어', '승진', '또', '마음을', '가상화폐', '오늘', '그', '땀을', '자의', '줄까', '같아', '나오세요', '싶어', '운동만', '좋을', '절약해봐요', '빠를수록', '좋아요', '나', '교회', '쫄딱', '끄고', '가스비', '많이', '사람도', '평소에', '해보세요', '있어도', '걸리겠어', '생각해보세요', '궁금해', '집착하지', '훈훈해', '운동', '좀', '너무', '잊고', '설득해보세요', '질린다', '다시', '함께', '돌아가서', '바빠', '가난한', '켜놓고', '좋을까?', '가스불', '생일인데', '다음', '식혀주세요', '열', '따라', '믿어줘', '필요했던', '전생에', '가끔', '적당히', '돈은', '빨리', '달에는', '때까지', '가끔은', '하세요', '설움']\n"
          ]
        }
      ]
    },
    {
      "cell_type": "code",
      "source": [
        "os.path.exists(VOCAB_PATH)"
      ],
      "metadata": {
        "colab": {
          "base_uri": "https://localhost:8080/"
        },
        "id": "QH367TXPO3YT",
        "outputId": "662269ed-7034-48c4-9961-bc89d29b9913"
      },
      "execution_count": null,
      "outputs": [
        {
          "output_type": "execute_result",
          "data": {
            "text/plain": [
              "True"
            ]
          },
          "metadata": {},
          "execution_count": 63
        }
      ]
    },
    {
      "cell_type": "code",
      "source": [
        "vocabulary_list = []\n",
        "\n",
        "if os.path.exists(VOCAB_PATH):\n",
        "  with open(VOCAB_PATH, 'r', encoding = 'utf-8') as vocabulary_file:\n",
        "    for line in vocabulary_file:\n",
        "      vocabulary_list.append(line.strip())\n",
        "\n",
        "print(vocabulary_list)"
      ],
      "metadata": {
        "colab": {
          "base_uri": "https://localhost:8080/"
        },
        "id": "-CBN5Cl0Mciw",
        "outputId": "bcab192e-e103-40d3-ecbe-8f37ee6fc8a9"
      },
      "execution_count": null,
      "outputs": [
        {
          "output_type": "stream",
          "name": "stdout",
          "text": [
            "['<PAD>', '<SOS>', '<END>', '<UNK>', '뭐가', '운동을', '갔어', '켜고', '그럴', '남자친구가', '나왔다', '같아요', '해', '나온거', '안', '것', '구하셨나요', '비싼데', '가만', '마세요', '감기', '결단은', '거짓말', '새출발', '망함', '데려가고', '따뜻하게', '즐기세요', '뭘', '집에', '남자친구', '좋다', '혼자를', '들어올', '필요한', '나라를', '선물로', '잘생겼어', '땀난다', '게', '혼자인게', '뭐하는지', '어서', '보인다', '거예요', '더', '사세요', '나갔어', '승진', '또', '마음을', '가상화폐', '오늘', '그', '땀을', '자의', '줄까', '같아', '나오세요', '싶어', '운동만', '좋을', '절약해봐요', '빠를수록', '좋아요', '나', '교회', '쫄딱', '끄고', '가스비', '많이', '사람도', '평소에', '해보세요', '있어도', '걸리겠어', '생각해보세요', '궁금해', '집착하지', '훈훈해', '운동', '좀', '너무', '잊고', '설득해보세요', '질린다', '다시', '함께', '돌아가서', '바빠', '가난한', '켜놓고', '좋을까?', '가스불', '생일인데', '다음', '식혀주세요', '열', '따라', '믿어줘', '필요했던', '전생에', '가끔', '적당히', '돈은', '빨리', '달에는', '때까지', '가끔은', '하세요', '설움']\n"
          ]
        }
      ]
    },
    {
      "cell_type": "code",
      "source": [
        "def make_vocabulary(vocabulary_list):\n",
        "  char2idx = {char: idx for idx, char in enumerate(vocabulary_list)}\n",
        "  idx2char = {idx: char for idx, char in enumerate(vocabulary_list)}\n",
        "\n",
        "  return char2idx, idx2char\n",
        "\n",
        "char2idx, idx2char = make_vocabulary(vocabulary_list)\n",
        "\n",
        "print(\"char2idx: \\n\", char2idx)\n",
        "print(\"idx2char: \\n\", idx2char)\n",
        "\n",
        "print(len(char2idx))"
      ],
      "metadata": {
        "colab": {
          "base_uri": "https://localhost:8080/"
        },
        "id": "66VcZqyyPj5u",
        "outputId": "024615f2-3b54-4136-8fd5-2aac8af932f2"
      },
      "execution_count": null,
      "outputs": [
        {
          "output_type": "stream",
          "name": "stdout",
          "text": [
            "char2idx: \n",
            " {'<PAD>': 0, '<SOS>': 1, '<END>': 2, '<UNK>': 3, '뭐가': 4, '운동을': 5, '갔어': 6, '켜고': 7, '그럴': 8, '남자친구가': 9, '나왔다': 10, '같아요': 11, '해': 12, '나온거': 13, '안': 14, '것': 15, '구하셨나요': 16, '비싼데': 17, '가만': 18, '마세요': 19, '감기': 20, '결단은': 21, '거짓말': 22, '새출발': 23, '망함': 24, '데려가고': 25, '따뜻하게': 26, '즐기세요': 27, '뭘': 28, '집에': 29, '남자친구': 30, '좋다': 31, '혼자를': 32, '들어올': 33, '필요한': 34, '나라를': 35, '선물로': 36, '잘생겼어': 37, '땀난다': 38, '게': 39, '혼자인게': 40, '뭐하는지': 41, '어서': 42, '보인다': 43, '거예요': 44, '더': 45, '사세요': 46, '나갔어': 47, '승진': 48, '또': 49, '마음을': 50, '가상화폐': 51, '오늘': 52, '그': 53, '땀을': 54, '자의': 55, '줄까': 56, '같아': 57, '나오세요': 58, '싶어': 59, '운동만': 60, '좋을': 61, '절약해봐요': 62, '빠를수록': 63, '좋아요': 64, '나': 65, '교회': 66, '쫄딱': 67, '끄고': 68, '가스비': 69, '많이': 70, '사람도': 71, '평소에': 72, '해보세요': 73, '있어도': 74, '걸리겠어': 75, '생각해보세요': 76, '궁금해': 77, '집착하지': 78, '훈훈해': 79, '운동': 80, '좀': 81, '너무': 82, '잊고': 83, '설득해보세요': 84, '질린다': 85, '다시': 86, '함께': 87, '돌아가서': 88, '바빠': 89, '가난한': 90, '켜놓고': 91, '좋을까?': 92, '가스불': 93, '생일인데': 94, '다음': 95, '식혀주세요': 96, '열': 97, '따라': 98, '믿어줘': 99, '필요했던': 100, '전생에': 101, '가끔': 102, '적당히': 103, '돈은': 104, '빨리': 105, '달에는': 106, '때까지': 107, '가끔은': 108, '하세요': 109, '설움': 110}\n",
            "idx2char: \n",
            " {0: '<PAD>', 1: '<SOS>', 2: '<END>', 3: '<UNK>', 4: '뭐가', 5: '운동을', 6: '갔어', 7: '켜고', 8: '그럴', 9: '남자친구가', 10: '나왔다', 11: '같아요', 12: '해', 13: '나온거', 14: '안', 15: '것', 16: '구하셨나요', 17: '비싼데', 18: '가만', 19: '마세요', 20: '감기', 21: '결단은', 22: '거짓말', 23: '새출발', 24: '망함', 25: '데려가고', 26: '따뜻하게', 27: '즐기세요', 28: '뭘', 29: '집에', 30: '남자친구', 31: '좋다', 32: '혼자를', 33: '들어올', 34: '필요한', 35: '나라를', 36: '선물로', 37: '잘생겼어', 38: '땀난다', 39: '게', 40: '혼자인게', 41: '뭐하는지', 42: '어서', 43: '보인다', 44: '거예요', 45: '더', 46: '사세요', 47: '나갔어', 48: '승진', 49: '또', 50: '마음을', 51: '가상화폐', 52: '오늘', 53: '그', 54: '땀을', 55: '자의', 56: '줄까', 57: '같아', 58: '나오세요', 59: '싶어', 60: '운동만', 61: '좋을', 62: '절약해봐요', 63: '빠를수록', 64: '좋아요', 65: '나', 66: '교회', 67: '쫄딱', 68: '끄고', 69: '가스비', 70: '많이', 71: '사람도', 72: '평소에', 73: '해보세요', 74: '있어도', 75: '걸리겠어', 76: '생각해보세요', 77: '궁금해', 78: '집착하지', 79: '훈훈해', 80: '운동', 81: '좀', 82: '너무', 83: '잊고', 84: '설득해보세요', 85: '질린다', 86: '다시', 87: '함께', 88: '돌아가서', 89: '바빠', 90: '가난한', 91: '켜놓고', 92: '좋을까?', 93: '가스불', 94: '생일인데', 95: '다음', 96: '식혀주세요', 97: '열', 98: '따라', 99: '믿어줘', 100: '필요했던', 101: '전생에', 102: '가끔', 103: '적당히', 104: '돈은', 105: '빨리', 106: '달에는', 107: '때까지', 108: '가끔은', 109: '하세요', 110: '설움'}\n",
            "111\n"
          ]
        }
      ]
    },
    {
      "cell_type": "code",
      "source": [
        "def load_vocabulary(path,vocab_path, tokenize_as_morph = False):\n",
        "  vocabulary_list = []\n",
        "  if not os.path.exists(vocab_path):\n",
        "    if (os.path.exists(path)):\n",
        "      data_df = pd.read_csv(path, encoding = 'utf-8', sep=\",\")\n",
        "      question, answer = list(data_df['Q']), list(data_df['A'])\n",
        "      if tokenize_as_morph:\n",
        "        quenstion = prepro_like_morphlized(question)\n",
        "        answer = prepro_like_morphlized(answer)\n",
        "\n",
        "      data = question + answer\n",
        "      words = data_tokenizer(data)\n",
        "\n",
        "      words = list(set(words))\n",
        "      words[:0] = MARKER\n",
        "\n",
        "      with open(vocab_path, 'w', encoding = 'utf-8') as vocabulary_list:\n",
        "        for word in words:\n",
        "          vocabulary_file.write(word + \"\\n\")\n",
        "\n",
        "    with open(vocab_path, 'r', encoding = 'utf-8') as vocabulary_file:\n",
        "      for line in vocabulary_file:\n",
        "        vocabulary_list.append(line.strip())\n",
        "\n",
        "    char2idx, idx2char = make_vocabulary(vocabulary_list)\n",
        "\n",
        "    return char2idx, idx2char, len(char2idx)\n",
        "\n"
      ],
      "metadata": {
        "id": "8rrNC_Oju7NU"
      },
      "execution_count": null,
      "outputs": []
    },
    {
      "cell_type": "code",
      "source": [
        "def load_vocabulary(path, vocab_path):\n",
        "    # vocabulary 파일을 불러와서 char2idx, idx2char, vocab_size를 초기화합니다.\n",
        "    try:\n",
        "        with open(vocab_path, 'r', encoding='utf-8') as file:\n",
        "            vocabulary = [line.strip() for line in file.readlines()]\n",
        "\n",
        "        char2idx = {char: idx for idx, char in enumerate(vocabulary)}\n",
        "        idx2char = {idx: char for idx, char in enumerate(vocabulary)}\n",
        "        vocab_size = len(vocabulary)\n",
        "\n",
        "        return char2idx, idx2char, vocab_size\n",
        "\n",
        "    except Exception as e:\n",
        "        print(f\"Vocabulary 파일을 불러오는 도중 오류가 발생했습니다: {e}\")\n",
        "        return None  # 오류 시 None을 반환하도록 수정합니다.\n"
      ],
      "metadata": {
        "id": "xBMtBPa53V7v"
      },
      "execution_count": null,
      "outputs": []
    },
    {
      "cell_type": "code",
      "source": [
        "PATH = '/content/drive/MyDrive/Chatbot_data-master/data_in/ChatBotData.csv_short'\n",
        "VOCAB_PATH = '/content/drive/MyDrive/Chatbot_data-master/data_in/vocabulary.txt'\n",
        "char2idx, idx2char, vocab_size = load_vocabulary(PATH, VOCAB_PATH)"
      ],
      "metadata": {
        "id": "gX4MMjL621iy"
      },
      "execution_count": null,
      "outputs": []
    },
    {
      "cell_type": "code",
      "source": [
        "data"
      ],
      "metadata": {
        "colab": {
          "base_uri": "https://localhost:8080/"
        },
        "id": "q73lJuPTaEpO",
        "outputId": "81e08a8f-ab8c-4195-c976-12cafdf54274"
      },
      "execution_count": null,
      "outputs": [
        {
          "output_type": "execute_result",
          "data": {
            "text/plain": [
              "['가끔 궁금해',\n",
              " '가끔 뭐하는지 궁금해',\n",
              " '가끔은 혼자인게 좋다',\n",
              " '가난한 자의 설움',\n",
              " '가만 있어도 땀난다',\n",
              " '가상화폐 쫄딱 망함',\n",
              " '가스불 켜고 나갔어',\n",
              " '가스불 켜놓고 나온거 같아',\n",
              " '가스비 너무 많이 나왔다.',\n",
              " '가스비 비싼데 감기 걸리겠어',\n",
              " '남자친구 교회 데려가고 싶어',\n",
              " '남자친구 또 운동 갔어',\n",
              " '남자친구 생일인데 뭘 줄까',\n",
              " '남자친구 승진 선물로 뭐가 좋을까?',\n",
              " '남자친구 오늘 따라 훈훈해 보인다',\n",
              " '남자친구 오늘 좀 질린다.',\n",
              " '남자친구가 나 안 믿어줘',\n",
              " '남자친구가 너무 바빠',\n",
              " '남자친구가 너무 운동만 해',\n",
              " '남자친구가 너무 잘생겼어',\n",
              " '그 사람도 그럴 거예요.',\n",
              " '그 사람도 그럴 거예요.',\n",
              " '혼자를 즐기세요.',\n",
              " '돈은 다시 들어올 거예요.',\n",
              " '땀을 식혀주세요.',\n",
              " '어서 잊고 새출발 하세요.',\n",
              " '빨리 집에 돌아가서 끄고 나오세요.',\n",
              " '빨리 집에 돌아가서 끄고 나오세요.',\n",
              " '다음 달에는 더 절약해봐요.',\n",
              " '따뜻하게 사세요!',\n",
              " '마음을 열 때까지 설득해보세요.',\n",
              " '운동을 함께 해보세요.',\n",
              " '평소에 필요한 것 생각해보세요.',\n",
              " '평소에 필요했던 게 좋을 것 같아요.',\n",
              " '전생에 나라를 구하셨나요.',\n",
              " '결단은 빠를수록 좋아요.',\n",
              " '거짓말 적당히 하세요.',\n",
              " '너무 집착하지 마세요.',\n",
              " '운동을 함께 해보세요.',\n",
              " '전생에 나라를 구하셨나요.']"
            ]
          },
          "metadata": {},
          "execution_count": 69
        }
      ]
    },
    {
      "cell_type": "code",
      "source": [
        "# encoding process\n",
        "\n",
        "# Label encoding의 예 ; One-hot encoding\n",
        "# encoder에 들어가는 input, decoder에 들어가는 output, decoder의 target\n",
        "\n",
        "MAX_SEQUENCE = 25\n",
        "FILTERS = \"[@#$%^^&*!.]\"\n",
        "CHANGE_FILTER = re.compile(FILTERS)\n",
        "\n",
        "def enc_processing(value, dictionary, tokenize_as_morph=False):\n",
        "    sequences_input_index = []\n",
        "    sequences_length = []\n",
        "\n",
        "    if tokenize_as_morph:\n",
        "        value = prepro_like_morphlized(value)\n",
        "\n",
        "    for sequence in value:\n",
        "        sequence = re.sub(CHANGE_FILTER, \"\", sequence)\n",
        "\n",
        "        sequence_index = []\n",
        "        for word in sequence.split():\n",
        "            if dictionary.get(word) is not None:\n",
        "                sequence_index.append(dictionary[word])\n",
        "            else:\n",
        "                sequence_index.append(dictionary[UNK])\n",
        "\n",
        "        if len(sequence_index) > MAX_SEQUENCE:\n",
        "            sequence_index = sequence_index[:MAX_SEQUENCE]\n",
        "\n",
        "        sequence_index += (MAX_SEQUENCE - len(sequence_index))*[dictionary[PAD]]\n",
        "\n",
        "        sequences_length.append(len(sequence_index))\n",
        "        sequences_input_index.append(sequence_index)\n",
        "\n",
        "    return sequences_input_index, sequences_length"
      ],
      "metadata": {
        "id": "WgHBlwdoQTtx"
      },
      "execution_count": null,
      "outputs": []
    },
    {
      "cell_type": "code",
      "source": [
        "index_inputs, input_seq_len = enc_processing(inputs, char2idx, tokenize_as_morph=False)\n",
        "print(index_inputs)\n",
        "print(inputs)"
      ],
      "metadata": {
        "colab": {
          "base_uri": "https://localhost:8080/"
        },
        "id": "nslnkCQwbF6d",
        "outputId": "a906abc9-4e94-4cdb-855e-5967539c66ce"
      },
      "execution_count": null,
      "outputs": [
        {
          "output_type": "stream",
          "name": "stdout",
          "text": [
            "[[102, 77, 0, 0, 0, 0, 0, 0, 0, 0, 0, 0, 0, 0, 0, 0, 0, 0, 0, 0, 0, 0, 0, 0, 0], [102, 41, 77, 0, 0, 0, 0, 0, 0, 0, 0, 0, 0, 0, 0, 0, 0, 0, 0, 0, 0, 0, 0, 0, 0], [108, 40, 31, 0, 0, 0, 0, 0, 0, 0, 0, 0, 0, 0, 0, 0, 0, 0, 0, 0, 0, 0, 0, 0, 0], [90, 55, 110, 0, 0, 0, 0, 0, 0, 0, 0, 0, 0, 0, 0, 0, 0, 0, 0, 0, 0, 0, 0, 0, 0], [18, 74, 38, 0, 0, 0, 0, 0, 0, 0, 0, 0, 0, 0, 0, 0, 0, 0, 0, 0, 0, 0, 0, 0, 0], [51, 67, 24, 0, 0, 0, 0, 0, 0, 0, 0, 0, 0, 0, 0, 0, 0, 0, 0, 0, 0, 0, 0, 0, 0], [93, 7, 47, 0, 0, 0, 0, 0, 0, 0, 0, 0, 0, 0, 0, 0, 0, 0, 0, 0, 0, 0, 0, 0, 0], [93, 91, 13, 57, 0, 0, 0, 0, 0, 0, 0, 0, 0, 0, 0, 0, 0, 0, 0, 0, 0, 0, 0, 0, 0], [69, 82, 70, 10, 0, 0, 0, 0, 0, 0, 0, 0, 0, 0, 0, 0, 0, 0, 0, 0, 0, 0, 0, 0, 0], [69, 17, 20, 75, 0, 0, 0, 0, 0, 0, 0, 0, 0, 0, 0, 0, 0, 0, 0, 0, 0, 0, 0, 0, 0], [30, 66, 25, 59, 0, 0, 0, 0, 0, 0, 0, 0, 0, 0, 0, 0, 0, 0, 0, 0, 0, 0, 0, 0, 0], [30, 49, 80, 6, 0, 0, 0, 0, 0, 0, 0, 0, 0, 0, 0, 0, 0, 0, 0, 0, 0, 0, 0, 0, 0], [30, 94, 28, 56, 0, 0, 0, 0, 0, 0, 0, 0, 0, 0, 0, 0, 0, 0, 0, 0, 0, 0, 0, 0, 0], [30, 48, 36, 4, 92, 0, 0, 0, 0, 0, 0, 0, 0, 0, 0, 0, 0, 0, 0, 0, 0, 0, 0, 0, 0], [30, 52, 98, 79, 43, 0, 0, 0, 0, 0, 0, 0, 0, 0, 0, 0, 0, 0, 0, 0, 0, 0, 0, 0, 0], [30, 52, 81, 85, 0, 0, 0, 0, 0, 0, 0, 0, 0, 0, 0, 0, 0, 0, 0, 0, 0, 0, 0, 0, 0], [9, 65, 14, 99, 0, 0, 0, 0, 0, 0, 0, 0, 0, 0, 0, 0, 0, 0, 0, 0, 0, 0, 0, 0, 0], [9, 82, 89, 0, 0, 0, 0, 0, 0, 0, 0, 0, 0, 0, 0, 0, 0, 0, 0, 0, 0, 0, 0, 0, 0], [9, 82, 60, 12, 0, 0, 0, 0, 0, 0, 0, 0, 0, 0, 0, 0, 0, 0, 0, 0, 0, 0, 0, 0, 0], [9, 82, 37, 0, 0, 0, 0, 0, 0, 0, 0, 0, 0, 0, 0, 0, 0, 0, 0, 0, 0, 0, 0, 0, 0]]\n",
            "0                  가끔 궁금해\n",
            "1             가끔 뭐하는지 궁금해\n",
            "2             가끔은 혼자인게 좋다\n",
            "3               가난한 자의 설움\n",
            "4              가만 있어도 땀난다\n",
            "5              가상화폐 쫄딱 망함\n",
            "6              가스불 켜고 나갔어\n",
            "7          가스불 켜놓고 나온거 같아\n",
            "8          가스비 너무 많이 나왔다.\n",
            "9         가스비 비싼데 감기 걸리겠어\n",
            "10        남자친구 교회 데려가고 싶어\n",
            "11           남자친구 또 운동 갔어\n",
            "12         남자친구 생일인데 뭘 줄까\n",
            "13    남자친구 승진 선물로 뭐가 좋을까?\n",
            "14     남자친구 오늘 따라 훈훈해 보인다\n",
            "15         남자친구 오늘 좀 질린다.\n",
            "16          남자친구가 나 안 믿어줘\n",
            "17            남자친구가 너무 바빠\n",
            "18         남자친구가 너무 운동만 해\n",
            "19          남자친구가 너무 잘생겼어\n",
            "Name: Q, dtype: object\n"
          ]
        }
      ]
    },
    {
      "cell_type": "code",
      "source": [
        "print(inputs)\n",
        "print(outputs)"
      ],
      "metadata": {
        "colab": {
          "base_uri": "https://localhost:8080/"
        },
        "id": "7uCfqMuZfpub",
        "outputId": "af43a459-b7a6-4588-80b6-857d7d86ad25"
      },
      "execution_count": null,
      "outputs": [
        {
          "output_type": "stream",
          "name": "stdout",
          "text": [
            "0                  가끔 궁금해\n",
            "1             가끔 뭐하는지 궁금해\n",
            "2             가끔은 혼자인게 좋다\n",
            "3               가난한 자의 설움\n",
            "4              가만 있어도 땀난다\n",
            "5              가상화폐 쫄딱 망함\n",
            "6              가스불 켜고 나갔어\n",
            "7          가스불 켜놓고 나온거 같아\n",
            "8          가스비 너무 많이 나왔다.\n",
            "9         가스비 비싼데 감기 걸리겠어\n",
            "10        남자친구 교회 데려가고 싶어\n",
            "11           남자친구 또 운동 갔어\n",
            "12         남자친구 생일인데 뭘 줄까\n",
            "13    남자친구 승진 선물로 뭐가 좋을까?\n",
            "14     남자친구 오늘 따라 훈훈해 보인다\n",
            "15         남자친구 오늘 좀 질린다.\n",
            "16          남자친구가 나 안 믿어줘\n",
            "17            남자친구가 너무 바빠\n",
            "18         남자친구가 너무 운동만 해\n",
            "19          남자친구가 너무 잘생겼어\n",
            "Name: Q, dtype: object\n",
            "0            그 사람도 그럴 거예요.\n",
            "1            그 사람도 그럴 거예요.\n",
            "2                혼자를 즐기세요.\n",
            "3           돈은 다시 들어올 거예요.\n",
            "4                땀을 식혀주세요.\n",
            "5           어서 잊고 새출발 하세요.\n",
            "6      빨리 집에 돌아가서 끄고 나오세요.\n",
            "7      빨리 집에 돌아가서 끄고 나오세요.\n",
            "8          다음 달에는 더 절약해봐요.\n",
            "9                따뜻하게 사세요!\n",
            "10       마음을 열 때까지 설득해보세요.\n",
            "11            운동을 함께 해보세요.\n",
            "12       평소에 필요한 것 생각해보세요.\n",
            "13    평소에 필요했던 게 좋을 것 같아요.\n",
            "14          전생에 나라를 구하셨나요.\n",
            "15           결단은 빠를수록 좋아요.\n",
            "16            거짓말 적당히 하세요.\n",
            "17            너무 집착하지 마세요.\n",
            "18            운동을 함께 해보세요.\n",
            "19          전생에 나라를 구하셨나요.\n",
            "Name: A, dtype: object\n"
          ]
        }
      ]
    },
    {
      "cell_type": "code",
      "source": [
        "char2idx[STD]"
      ],
      "metadata": {
        "colab": {
          "base_uri": "https://localhost:8080/"
        },
        "id": "VCH_6NvLiExm",
        "outputId": "63c02a9b-275e-44fe-9678-d3861407ace8"
      },
      "execution_count": null,
      "outputs": [
        {
          "output_type": "execute_result",
          "data": {
            "text/plain": [
              "1"
            ]
          },
          "metadata": {},
          "execution_count": 73
        }
      ]
    },
    {
      "cell_type": "code",
      "source": [
        "# # decoder output\n",
        "\n",
        "# def dec_output_processing(value, dictionary, tokenize_as_morph = False):\n",
        "#   sequence_output_index= []\n",
        "#   sequences_length = []\n",
        "\n",
        "#   if tokenize_as_morph:\n",
        "#     value = prepro_like_morphlized(value)\n",
        "\n",
        "#   for sequence in value:\n",
        "#     sequence = re.sub(CHANGE_FILTER, \"\", sequence)\n",
        "\n",
        "#     sequence_index = []\n",
        "#     for word in sequence.split():\n",
        "#       if dictionary.get(word) is not None:\n",
        "#         sequence_index.append(dictionary[word])\n",
        "#         # sequence_index.extend([dictionary[word]])\n",
        "#       else:\n",
        "#         sequence_index.append(dictionary[UNK])\n",
        "\n",
        "#     sequence_index = [dictionary[STD]] + sequence_index\n",
        "\n",
        "#     if len(sequence_index) > MAX_SEQUENCE:\n",
        "#       sequence_index = sequence_index[:MAX_SEQUENCE]\n",
        "\n",
        "#     sequences_length = sequences_length.append(len(sequence_index))\n",
        "#     sequence_index += ((MAX_SEQUENCE) - len(sequence_index)) * [dictionary[PAD]]\n",
        "#     sequence_output_index.append(sequence_index)\n",
        "\n",
        "#   return np.array(sequence_output_index), sequences_length\n",
        "\n",
        "\n",
        "\n",
        "# decoder output\n",
        "MAX_SEQUENCE = 25\n",
        "FILTERS = \"[@#$%^^.]\"\n",
        "CHANGE_FILTER = re.compile(FILTERS)\n",
        "# decoder output\n",
        "def dec_output_processing(value, dictionary, tokenize_as_morph = False):\n",
        "    sequences_output_index = []\n",
        "    sequences_length = []\n",
        "    if tokenize_as_morph:\n",
        "        value = prepro_like_morphlized(value)\n",
        "    for sequence in value:\n",
        "        sequence = re.sub(CHANGE_FILTER, \"\", sequence)\n",
        "        sequence_index = []\n",
        "        for word in sequence.split():\n",
        "            if dictionary.get(word) is not None:\n",
        "                sequence_index.append(dictionary[word])\n",
        "                #sequence_index.extend([dictionary[word]])\n",
        "            else:\n",
        "                sequence_index.append(dictionary[UNK])\n",
        "        sequence_index = [dictionary[STD]] + sequence_index\n",
        "        if len(sequence_index) > MAX_SEQUENCE:\n",
        "            sequence_index = sequence_index[:MAX_SEQUENCE]\n",
        "        sequences_length.append(len(sequence_index))\n",
        "        sequence_index += ((MAX_SEQUENCE) - len(sequence_index))*[dictionary[PAD]]\n",
        "        sequences_output_index.append(sequence_index)\n",
        "    return np.array(sequences_output_index), sequences_length"
      ],
      "metadata": {
        "id": "2oUrLE2tdbWH"
      },
      "execution_count": null,
      "outputs": []
    },
    {
      "cell_type": "code",
      "source": [
        "index_outputs, sequence_length = dec_output_processing(outputs, char2idx, tokenize_as_morph = False)\n",
        "\n",
        "print(index_outputs )\n",
        "print(sequence_length)\n"
      ],
      "metadata": {
        "colab": {
          "base_uri": "https://localhost:8080/"
        },
        "id": "87H4HbCbl7io",
        "outputId": "8abe96bf-bc19-47fd-d154-35ef034c8089"
      },
      "execution_count": null,
      "outputs": [
        {
          "output_type": "stream",
          "name": "stdout",
          "text": [
            "[[  1  53  71   8  44   0   0   0   0   0   0   0   0   0   0   0   0   0\n",
            "    0   0   0   0   0   0   0]\n",
            " [  1  53  71   8  44   0   0   0   0   0   0   0   0   0   0   0   0   0\n",
            "    0   0   0   0   0   0   0]\n",
            " [  1  32  27   0   0   0   0   0   0   0   0   0   0   0   0   0   0   0\n",
            "    0   0   0   0   0   0   0]\n",
            " [  1 104  86  33  44   0   0   0   0   0   0   0   0   0   0   0   0   0\n",
            "    0   0   0   0   0   0   0]\n",
            " [  1  54  96   0   0   0   0   0   0   0   0   0   0   0   0   0   0   0\n",
            "    0   0   0   0   0   0   0]\n",
            " [  1  42  83  23 109   0   0   0   0   0   0   0   0   0   0   0   0   0\n",
            "    0   0   0   0   0   0   0]\n",
            " [  1 105  29  88  68  58   0   0   0   0   0   0   0   0   0   0   0   0\n",
            "    0   0   0   0   0   0   0]\n",
            " [  1 105  29  88  68  58   0   0   0   0   0   0   0   0   0   0   0   0\n",
            "    0   0   0   0   0   0   0]\n",
            " [  1  95 106  45  62   0   0   0   0   0   0   0   0   0   0   0   0   0\n",
            "    0   0   0   0   0   0   0]\n",
            " [  1  26   3   0   0   0   0   0   0   0   0   0   0   0   0   0   0   0\n",
            "    0   0   0   0   0   0   0]\n",
            " [  1  50  97 107  84   0   0   0   0   0   0   0   0   0   0   0   0   0\n",
            "    0   0   0   0   0   0   0]\n",
            " [  1   5  87  73   0   0   0   0   0   0   0   0   0   0   0   0   0   0\n",
            "    0   0   0   0   0   0   0]\n",
            " [  1  72  34  15  76   0   0   0   0   0   0   0   0   0   0   0   0   0\n",
            "    0   0   0   0   0   0   0]\n",
            " [  1  72 100  39  61  15  11   0   0   0   0   0   0   0   0   0   0   0\n",
            "    0   0   0   0   0   0   0]\n",
            " [  1 101  35  16   0   0   0   0   0   0   0   0   0   0   0   0   0   0\n",
            "    0   0   0   0   0   0   0]\n",
            " [  1  21  63  64   0   0   0   0   0   0   0   0   0   0   0   0   0   0\n",
            "    0   0   0   0   0   0   0]\n",
            " [  1  22 103 109   0   0   0   0   0   0   0   0   0   0   0   0   0   0\n",
            "    0   0   0   0   0   0   0]\n",
            " [  1  82  78  19   0   0   0   0   0   0   0   0   0   0   0   0   0   0\n",
            "    0   0   0   0   0   0   0]\n",
            " [  1   5  87  73   0   0   0   0   0   0   0   0   0   0   0   0   0   0\n",
            "    0   0   0   0   0   0   0]\n",
            " [  1 101  35  16   0   0   0   0   0   0   0   0   0   0   0   0   0   0\n",
            "    0   0   0   0   0   0   0]]\n",
            "[5, 5, 3, 5, 3, 5, 6, 6, 5, 3, 5, 4, 5, 7, 4, 4, 4, 4, 4, 4]\n"
          ]
        }
      ]
    },
    {
      "cell_type": "code",
      "source": [
        "def dec_target_processing(value, dictionary, tokenize_as_morph = False):\n",
        "  sequences_target_index = []\n",
        "\n",
        "  if tokenize_as_morph:\n",
        "    value = prepro_like_morphlized(value)\n",
        "  for sequence in value:\n",
        "    sequence = re.sub(CHANGE_FILTER, \"\", sequence)\n",
        "\n",
        "    sequence_index = []\n",
        "    for word in sequence.split():\n",
        "      if dictionary.get(word) is not None:\n",
        "        sequence_index.append(dictionary[word])\n",
        "      else:\n",
        "        sequence_index.append(dictionary[UNK])\n",
        "\n",
        "    if len(sequence_index) >= MAX_SEQUENCE:\n",
        "      sequence_index = sequence_index[:(MAX_SEQUENCE-1)] + [dictionary[END]]\n",
        "    else:\n",
        "      sequence_index += [dictionary[END]]\n",
        "\n",
        "    sequence_index += (MAX_SEQUENCE - len(sequence_index))*[dictionary[PAD]]\n",
        "\n",
        "    sequences_target_index.append(sequence_index)\n",
        "\n",
        "  return np.array(sequences_target_index)\n"
      ],
      "metadata": {
        "id": "f5lE-VwlplNv"
      },
      "execution_count": null,
      "outputs": []
    },
    {
      "cell_type": "code",
      "source": [
        "index_targets = dec_target_processing(outputs, char2idx)"
      ],
      "metadata": {
        "id": "z65rTRQD65de"
      },
      "execution_count": null,
      "outputs": []
    },
    {
      "cell_type": "code",
      "source": [
        "index_targets"
      ],
      "metadata": {
        "colab": {
          "base_uri": "https://localhost:8080/"
        },
        "id": "wvJ-rqqw7fC_",
        "outputId": "05ece5c2-f5db-435d-85f4-26d9f85f9253"
      },
      "execution_count": null,
      "outputs": [
        {
          "output_type": "execute_result",
          "data": {
            "text/plain": [
              "array([[ 53,  71,   8,  44,   2,   0,   0,   0,   0,   0,   0,   0,   0,\n",
              "          0,   0,   0,   0,   0,   0,   0,   0,   0,   0,   0,   0],\n",
              "       [ 53,  71,   8,  44,   2,   0,   0,   0,   0,   0,   0,   0,   0,\n",
              "          0,   0,   0,   0,   0,   0,   0,   0,   0,   0,   0,   0],\n",
              "       [ 32,  27,   2,   0,   0,   0,   0,   0,   0,   0,   0,   0,   0,\n",
              "          0,   0,   0,   0,   0,   0,   0,   0,   0,   0,   0,   0],\n",
              "       [104,  86,  33,  44,   2,   0,   0,   0,   0,   0,   0,   0,   0,\n",
              "          0,   0,   0,   0,   0,   0,   0,   0,   0,   0,   0,   0],\n",
              "       [ 54,  96,   2,   0,   0,   0,   0,   0,   0,   0,   0,   0,   0,\n",
              "          0,   0,   0,   0,   0,   0,   0,   0,   0,   0,   0,   0],\n",
              "       [ 42,  83,  23, 109,   2,   0,   0,   0,   0,   0,   0,   0,   0,\n",
              "          0,   0,   0,   0,   0,   0,   0,   0,   0,   0,   0,   0],\n",
              "       [105,  29,  88,  68,  58,   2,   0,   0,   0,   0,   0,   0,   0,\n",
              "          0,   0,   0,   0,   0,   0,   0,   0,   0,   0,   0,   0],\n",
              "       [105,  29,  88,  68,  58,   2,   0,   0,   0,   0,   0,   0,   0,\n",
              "          0,   0,   0,   0,   0,   0,   0,   0,   0,   0,   0,   0],\n",
              "       [ 95, 106,  45,  62,   2,   0,   0,   0,   0,   0,   0,   0,   0,\n",
              "          0,   0,   0,   0,   0,   0,   0,   0,   0,   0,   0,   0],\n",
              "       [ 26,   3,   2,   0,   0,   0,   0,   0,   0,   0,   0,   0,   0,\n",
              "          0,   0,   0,   0,   0,   0,   0,   0,   0,   0,   0,   0],\n",
              "       [ 50,  97, 107,  84,   2,   0,   0,   0,   0,   0,   0,   0,   0,\n",
              "          0,   0,   0,   0,   0,   0,   0,   0,   0,   0,   0,   0],\n",
              "       [  5,  87,  73,   2,   0,   0,   0,   0,   0,   0,   0,   0,   0,\n",
              "          0,   0,   0,   0,   0,   0,   0,   0,   0,   0,   0,   0],\n",
              "       [ 72,  34,  15,  76,   2,   0,   0,   0,   0,   0,   0,   0,   0,\n",
              "          0,   0,   0,   0,   0,   0,   0,   0,   0,   0,   0,   0],\n",
              "       [ 72, 100,  39,  61,  15,  11,   2,   0,   0,   0,   0,   0,   0,\n",
              "          0,   0,   0,   0,   0,   0,   0,   0,   0,   0,   0,   0],\n",
              "       [101,  35,  16,   2,   0,   0,   0,   0,   0,   0,   0,   0,   0,\n",
              "          0,   0,   0,   0,   0,   0,   0,   0,   0,   0,   0,   0],\n",
              "       [ 21,  63,  64,   2,   0,   0,   0,   0,   0,   0,   0,   0,   0,\n",
              "          0,   0,   0,   0,   0,   0,   0,   0,   0,   0,   0,   0],\n",
              "       [ 22, 103, 109,   2,   0,   0,   0,   0,   0,   0,   0,   0,   0,\n",
              "          0,   0,   0,   0,   0,   0,   0,   0,   0,   0,   0,   0],\n",
              "       [ 82,  78,  19,   2,   0,   0,   0,   0,   0,   0,   0,   0,   0,\n",
              "          0,   0,   0,   0,   0,   0,   0,   0,   0,   0,   0,   0],\n",
              "       [  5,  87,  73,   2,   0,   0,   0,   0,   0,   0,   0,   0,   0,\n",
              "          0,   0,   0,   0,   0,   0,   0,   0,   0,   0,   0,   0],\n",
              "       [101,  35,  16,   2,   0,   0,   0,   0,   0,   0,   0,   0,   0,\n",
              "          0,   0,   0,   0,   0,   0,   0,   0,   0,   0,   0,   0]])"
            ]
          },
          "metadata": {},
          "execution_count": 78
        }
      ]
    },
    {
      "cell_type": "code",
      "source": [
        "index = 5\n",
        "print(inputs[index])\n",
        "print(index_inputs[5])\n",
        "print()\n",
        "print(outputs[index])\n",
        "print(index_outputs[index])\n",
        "print()\n",
        "print(index_targets[index])"
      ],
      "metadata": {
        "colab": {
          "base_uri": "https://localhost:8080/"
        },
        "id": "p1If7LrptMty",
        "outputId": "75a13d96-4426-4228-9da6-cfc0a52972ef"
      },
      "execution_count": null,
      "outputs": [
        {
          "output_type": "stream",
          "name": "stdout",
          "text": [
            "가상화폐 쫄딱 망함\n",
            "[51, 67, 24, 0, 0, 0, 0, 0, 0, 0, 0, 0, 0, 0, 0, 0, 0, 0, 0, 0, 0, 0, 0, 0, 0]\n",
            "\n",
            "어서 잊고 새출발 하세요.\n",
            "[  1  42  83  23 109   0   0   0   0   0   0   0   0   0   0   0   0   0\n",
            "   0   0   0   0   0   0   0]\n",
            "\n",
            "[ 42  83  23 109   2   0   0   0   0   0   0   0   0   0   0   0   0   0\n",
            "   0   0   0   0   0   0   0]\n"
          ]
        }
      ]
    },
    {
      "cell_type": "code",
      "source": [
        "data_configs = {}\n",
        "data_configs['char2idx'] = char2idx\n",
        "data_configs['idx2char'] = idx2char\n",
        "data_configs['vocab_size'] = vocab_size\n",
        "data_configs['pad_symbol'] = PAD\n",
        "data_configs['std_symbol'] = STD\n",
        "data_configs['end_symbol'] = END\n",
        "data_configs['unk_symbol'] = UNK\n",
        "\n",
        "DATA_IN_PATH = '/content/drive/MyDrive/data_in'\n",
        "TRAIN_INPUTS = 'train_inputs.npy'\n",
        "TRAIN_OUTPUTS = 'train_outputs.npy'\n",
        "TRAIN_TARGETS = 'train_targets.npy'\n",
        "DATA_CONFIGS = 'data_configs.json'\n",
        "\n",
        "np.save(open(DATA_IN_PATH + TRAIN_INPUTS, 'wb'), index_inputs)\n",
        "np.save(open(DATA_IN_PATH + TRAIN_OUTPUTS, 'wb'), index_outputs)\n",
        "np.save(open(DATA_IN_PATH + TRAIN_TARGETS, 'wb'), index_targets)\n",
        "\n",
        "json.dump(data_configs, open(DATA_IN_PATH + DATA_CONFIGS, 'w'))"
      ],
      "metadata": {
        "id": "Q8j0dxnCtaL-"
      },
      "execution_count": null,
      "outputs": []
    },
    {
      "cell_type": "code",
      "source": [
        "data_configs.keys()\n",
        "data_configs.values()"
      ],
      "metadata": {
        "colab": {
          "base_uri": "https://localhost:8080/"
        },
        "id": "wYpMBeCs1Ydw",
        "outputId": "943ce2e9-8540-4df9-c9a6-fb0e22908a6f"
      },
      "execution_count": null,
      "outputs": [
        {
          "output_type": "execute_result",
          "data": {
            "text/plain": [
              "dict_values([{'<PAD>': 0, '<SOS>': 1, '<END>': 2, '<UNK>': 3, '뭐가': 4, '운동을': 5, '갔어': 6, '켜고': 7, '그럴': 8, '남자친구가': 9, '나왔다': 10, '같아요': 11, '해': 12, '나온거': 13, '안': 14, '것': 15, '구하셨나요': 16, '비싼데': 17, '가만': 18, '마세요': 19, '감기': 20, '결단은': 21, '거짓말': 22, '새출발': 23, '망함': 24, '데려가고': 25, '따뜻하게': 26, '즐기세요': 27, '뭘': 28, '집에': 29, '남자친구': 30, '좋다': 31, '혼자를': 32, '들어올': 33, '필요한': 34, '나라를': 35, '선물로': 36, '잘생겼어': 37, '땀난다': 38, '게': 39, '혼자인게': 40, '뭐하는지': 41, '어서': 42, '보인다': 43, '거예요': 44, '더': 45, '사세요': 46, '나갔어': 47, '승진': 48, '또': 49, '마음을': 50, '가상화폐': 51, '오늘': 52, '그': 53, '땀을': 54, '자의': 55, '줄까': 56, '같아': 57, '나오세요': 58, '싶어': 59, '운동만': 60, '좋을': 61, '절약해봐요': 62, '빠를수록': 63, '좋아요': 64, '나': 65, '교회': 66, '쫄딱': 67, '끄고': 68, '가스비': 69, '많이': 70, '사람도': 71, '평소에': 72, '해보세요': 73, '있어도': 74, '걸리겠어': 75, '생각해보세요': 76, '궁금해': 77, '집착하지': 78, '훈훈해': 79, '운동': 80, '좀': 81, '너무': 82, '잊고': 83, '설득해보세요': 84, '질린다': 85, '다시': 86, '함께': 87, '돌아가서': 88, '바빠': 89, '가난한': 90, '켜놓고': 91, '좋을까?': 92, '가스불': 93, '생일인데': 94, '다음': 95, '식혀주세요': 96, '열': 97, '따라': 98, '믿어줘': 99, '필요했던': 100, '전생에': 101, '가끔': 102, '적당히': 103, '돈은': 104, '빨리': 105, '달에는': 106, '때까지': 107, '가끔은': 108, '하세요': 109, '설움': 110}, {0: '<PAD>', 1: '<SOS>', 2: '<END>', 3: '<UNK>', 4: '뭐가', 5: '운동을', 6: '갔어', 7: '켜고', 8: '그럴', 9: '남자친구가', 10: '나왔다', 11: '같아요', 12: '해', 13: '나온거', 14: '안', 15: '것', 16: '구하셨나요', 17: '비싼데', 18: '가만', 19: '마세요', 20: '감기', 21: '결단은', 22: '거짓말', 23: '새출발', 24: '망함', 25: '데려가고', 26: '따뜻하게', 27: '즐기세요', 28: '뭘', 29: '집에', 30: '남자친구', 31: '좋다', 32: '혼자를', 33: '들어올', 34: '필요한', 35: '나라를', 36: '선물로', 37: '잘생겼어', 38: '땀난다', 39: '게', 40: '혼자인게', 41: '뭐하는지', 42: '어서', 43: '보인다', 44: '거예요', 45: '더', 46: '사세요', 47: '나갔어', 48: '승진', 49: '또', 50: '마음을', 51: '가상화폐', 52: '오늘', 53: '그', 54: '땀을', 55: '자의', 56: '줄까', 57: '같아', 58: '나오세요', 59: '싶어', 60: '운동만', 61: '좋을', 62: '절약해봐요', 63: '빠를수록', 64: '좋아요', 65: '나', 66: '교회', 67: '쫄딱', 68: '끄고', 69: '가스비', 70: '많이', 71: '사람도', 72: '평소에', 73: '해보세요', 74: '있어도', 75: '걸리겠어', 76: '생각해보세요', 77: '궁금해', 78: '집착하지', 79: '훈훈해', 80: '운동', 81: '좀', 82: '너무', 83: '잊고', 84: '설득해보세요', 85: '질린다', 86: '다시', 87: '함께', 88: '돌아가서', 89: '바빠', 90: '가난한', 91: '켜놓고', 92: '좋을까?', 93: '가스불', 94: '생일인데', 95: '다음', 96: '식혀주세요', 97: '열', 98: '따라', 99: '믿어줘', 100: '필요했던', 101: '전생에', 102: '가끔', 103: '적당히', 104: '돈은', 105: '빨리', 106: '달에는', 107: '때까지', 108: '가끔은', 109: '하세요', 110: '설움'}, 111, '<PAD>', '<SOS>', '<END>', '<UNK>'])"
            ]
          },
          "metadata": {},
          "execution_count": 81
        }
      ]
    },
    {
      "cell_type": "code",
      "source": [
        "print(data_configs['char2idx'])\n",
        "print(data_configs['idx2char'])\n",
        "print(data_configs['vocab_size'])"
      ],
      "metadata": {
        "id": "GfwznsVK1zw0",
        "colab": {
          "base_uri": "https://localhost:8080/"
        },
        "outputId": "7b1b1d0d-a00e-4dcf-9092-eaa8a0f04477"
      },
      "execution_count": null,
      "outputs": [
        {
          "output_type": "stream",
          "name": "stdout",
          "text": [
            "{'<PAD>': 0, '<SOS>': 1, '<END>': 2, '<UNK>': 3, '뭐가': 4, '운동을': 5, '갔어': 6, '켜고': 7, '그럴': 8, '남자친구가': 9, '나왔다': 10, '같아요': 11, '해': 12, '나온거': 13, '안': 14, '것': 15, '구하셨나요': 16, '비싼데': 17, '가만': 18, '마세요': 19, '감기': 20, '결단은': 21, '거짓말': 22, '새출발': 23, '망함': 24, '데려가고': 25, '따뜻하게': 26, '즐기세요': 27, '뭘': 28, '집에': 29, '남자친구': 30, '좋다': 31, '혼자를': 32, '들어올': 33, '필요한': 34, '나라를': 35, '선물로': 36, '잘생겼어': 37, '땀난다': 38, '게': 39, '혼자인게': 40, '뭐하는지': 41, '어서': 42, '보인다': 43, '거예요': 44, '더': 45, '사세요': 46, '나갔어': 47, '승진': 48, '또': 49, '마음을': 50, '가상화폐': 51, '오늘': 52, '그': 53, '땀을': 54, '자의': 55, '줄까': 56, '같아': 57, '나오세요': 58, '싶어': 59, '운동만': 60, '좋을': 61, '절약해봐요': 62, '빠를수록': 63, '좋아요': 64, '나': 65, '교회': 66, '쫄딱': 67, '끄고': 68, '가스비': 69, '많이': 70, '사람도': 71, '평소에': 72, '해보세요': 73, '있어도': 74, '걸리겠어': 75, '생각해보세요': 76, '궁금해': 77, '집착하지': 78, '훈훈해': 79, '운동': 80, '좀': 81, '너무': 82, '잊고': 83, '설득해보세요': 84, '질린다': 85, '다시': 86, '함께': 87, '돌아가서': 88, '바빠': 89, '가난한': 90, '켜놓고': 91, '좋을까?': 92, '가스불': 93, '생일인데': 94, '다음': 95, '식혀주세요': 96, '열': 97, '따라': 98, '믿어줘': 99, '필요했던': 100, '전생에': 101, '가끔': 102, '적당히': 103, '돈은': 104, '빨리': 105, '달에는': 106, '때까지': 107, '가끔은': 108, '하세요': 109, '설움': 110}\n",
            "{0: '<PAD>', 1: '<SOS>', 2: '<END>', 3: '<UNK>', 4: '뭐가', 5: '운동을', 6: '갔어', 7: '켜고', 8: '그럴', 9: '남자친구가', 10: '나왔다', 11: '같아요', 12: '해', 13: '나온거', 14: '안', 15: '것', 16: '구하셨나요', 17: '비싼데', 18: '가만', 19: '마세요', 20: '감기', 21: '결단은', 22: '거짓말', 23: '새출발', 24: '망함', 25: '데려가고', 26: '따뜻하게', 27: '즐기세요', 28: '뭘', 29: '집에', 30: '남자친구', 31: '좋다', 32: '혼자를', 33: '들어올', 34: '필요한', 35: '나라를', 36: '선물로', 37: '잘생겼어', 38: '땀난다', 39: '게', 40: '혼자인게', 41: '뭐하는지', 42: '어서', 43: '보인다', 44: '거예요', 45: '더', 46: '사세요', 47: '나갔어', 48: '승진', 49: '또', 50: '마음을', 51: '가상화폐', 52: '오늘', 53: '그', 54: '땀을', 55: '자의', 56: '줄까', 57: '같아', 58: '나오세요', 59: '싶어', 60: '운동만', 61: '좋을', 62: '절약해봐요', 63: '빠를수록', 64: '좋아요', 65: '나', 66: '교회', 67: '쫄딱', 68: '끄고', 69: '가스비', 70: '많이', 71: '사람도', 72: '평소에', 73: '해보세요', 74: '있어도', 75: '걸리겠어', 76: '생각해보세요', 77: '궁금해', 78: '집착하지', 79: '훈훈해', 80: '운동', 81: '좀', 82: '너무', 83: '잊고', 84: '설득해보세요', 85: '질린다', 86: '다시', 87: '함께', 88: '돌아가서', 89: '바빠', 90: '가난한', 91: '켜놓고', 92: '좋을까?', 93: '가스불', 94: '생일인데', 95: '다음', 96: '식혀주세요', 97: '열', 98: '따라', 99: '믿어줘', 100: '필요했던', 101: '전생에', 102: '가끔', 103: '적당히', 104: '돈은', 105: '빨리', 106: '달에는', 107: '때까지', 108: '가끔은', 109: '하세요', 110: '설움'}\n",
            "111\n"
          ]
        }
      ]
    },
    {
      "cell_type": "code",
      "source": [],
      "metadata": {
        "id": "0rpfZT5dNCAR"
      },
      "execution_count": null,
      "outputs": []
    }
  ]
}